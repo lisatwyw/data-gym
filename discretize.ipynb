{
  "nbformat": 4,
  "nbformat_minor": 0,
  "metadata": {
    "colab": {
      "name": "discretize.ipynb",
      "provenance": [],
      "authorship_tag": "ABX9TyM4L1eVrBFLqko/+XZRnZ2z",
      "include_colab_link": true
    },
    "kernelspec": {
      "name": "python3",
      "display_name": "Python 3"
    }
  },
  "cells": [
    {
      "cell_type": "markdown",
      "metadata": {
        "id": "view-in-github",
        "colab_type": "text"
      },
      "source": [
        "<a href=\"https://colab.research.google.com/github/lisatwyw/data-gym/blob/master/discretize.ipynb\" target=\"_parent\"><img src=\"https://colab.research.google.com/assets/colab-badge.svg\" alt=\"Open In Colab\"/></a>"
      ]
    },
    {
      "cell_type": "markdown",
      "metadata": {
        "id": "-P35H7nSZCG6",
        "colab_type": "text"
      },
      "source": [
        "# Overview #\n",
        "\n",
        "This demo shows you how to... \n",
        "- use ```repmat```\n",
        "- calculate nearest neighbours to cluster centers\n",
        "- verify the discretization process"
      ]
    },
    {
      "cell_type": "code",
      "metadata": {
        "id": "grmJlI0GYMzn",
        "colab_type": "code",
        "colab": {}
      },
      "source": [
        "import numpy as np\n",
        "import numpy.matlib    \n",
        "\n",
        "rseries = np.random.randn(1000)\n",
        "\n",
        "clusters= np.histogram_bin_edges( rseries )\n",
        "\n",
        "a=numpy.matlib.repmat( clusters, len(rseries),1 ).transpose()      \n",
        "b=numpy.matlib.repmat( rseries, len(clusters), 1)                                                                                                                        \n",
        "cl = np.argmin( abs(a - b), 0 ) \n",
        "labels = np.arange( len(clusters ) )\n",
        "\n"
      ],
      "execution_count": 0,
      "outputs": []
    },
    {
      "cell_type": "code",
      "metadata": {
        "id": "CO5HxGaCYlIm",
        "colab_type": "code",
        "colab": {
          "base_uri": "https://localhost:8080/",
          "height": 265
        },
        "outputId": "87d05d1a-35ab-4bac-8143-768ddfe50440"
      },
      "source": [
        "import matplotlib.pyplot as plt;\n",
        "plt.hist(rseries);\n"
      ],
      "execution_count": 16,
      "outputs": [
        {
          "output_type": "display_data",
          "data": {
            "image/png": "[encoded data removed]",
            "text/plain": [
              "<Figure size 432x288 with 1 Axes>"
            ]
          },
          "metadata": {
            "tags": []
          }
        }
      ]
    },
    {
      "cell_type": "code",
      "metadata": {
        "id": "Z8PD5Pw4Yvcw",
        "colab_type": "code",
        "colab": {
          "base_uri": "https://localhost:8080/",
          "height": 265
        },
        "outputId": "06d6e2c3-ef22-41ac-ddfb-acc04a0338b6"
      },
      "source": [
        "\n",
        "plt.scatter( rseries, cl ); \n",
        "\n"
      ],
      "execution_count": 17,
      "outputs": [
        {
          "output_type": "display_data",
          "data": {
            "image/png": "[encoded data removed]",
            "text/plain": [
              "<Figure size 432x288 with 1 Axes>"
            ]
          },
          "metadata": {
            "tags": []
          }
        }
      ]
    }
  ]
}