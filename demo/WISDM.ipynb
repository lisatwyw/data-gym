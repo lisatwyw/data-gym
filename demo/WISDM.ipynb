{
  "nbformat": 4,
  "nbformat_minor": 0,
  "metadata": {
    "colab": {
      "name": "WISDM.ipynb",
      "provenance": [],
      "collapsed_sections": [],
      "toc_visible": true,
      "include_colab_link": true
    },
    "kernelspec": {
      "name": "python3",
      "display_name": "Python 3"
    }
  },
  "cells": [
    {
      "cell_type": "markdown",
      "metadata": {
        "id": "view-in-github",
        "colab_type": "text"
      },
      "source": [
        "<a href=\"https://colab.research.google.com/github/lisatwyw/data-gym/blob/master/WISDM.ipynb\" target=\"_parent\"><img src=\"https://colab.research.google.com/assets/colab-badge.svg\" alt=\"Open In Colab\"/></a>"
      ]
    },
    {
      "cell_type": "markdown",
      "metadata": {
        "id": "LhHGvYR3KNKG",
        "colab_type": "text"
      },
      "source": [
        "# Overview #\n",
        "\n",
        "- This is a notebook prepared for you to try out classification tasks using time-series data acquired using accelerometers of iPhone's.\n",
        "\n",
        "- You'll get to:\n",
        " - train a model based on neural networks \n",
        " - learn about ```CoreML```\n",
        " \n",
        "- Post-demo exercise: try to replicate below using the [Actitracker dataset](http://www.cis.fordham.edu/wisdm/includes/datasets/latest/WISDM_at_latest.tar.gz)"
      ]
    },
    {
      "cell_type": "markdown",
      "metadata": {
        "id": "FqM7vSoRHyg3",
        "colab_type": "text"
      },
      "source": [
        "# A) Mount Google drive #\n"
      ]
    },
    {
      "cell_type": "code",
      "metadata": {
        "id": "zKhYw_BxHyAa",
        "colab_type": "code",
        "outputId": "f70691c6-cf6f-4081-dd83-d0d8e7174b35",
        "colab": {
          "base_uri": "https://localhost:8080/",
          "height": 34
        }
      },
      "source": [
        "from google.colab import drive\n",
        "drive.mount('/content/drive')\n",
        "\n",
        "from pydrive.auth import GoogleAuth\n",
        "from pydrive.drive import GoogleDrive\n",
        "from google.colab import auth\n",
        "from oauth2client.client import GoogleCredentials"
      ],
      "execution_count": 47,
      "outputs": [
        {
          "output_type": "stream",
          "text": [
            "Drive already mounted at /content/drive; to attempt to forcibly remount, call drive.mount(\"/content/drive\", force_remount=True).\n"
          ],
          "name": "stdout"
        }
      ]
    },
    {
      "cell_type": "markdown",
      "metadata": {
        "id": "rKZJs-RrIhKO",
        "colab_type": "text"
      },
      "source": [
        "# B) Create subfolder ``wisdm`` in your ```opensource_datasets``` folder #"
      ]
    },
    {
      "cell_type": "code",
      "metadata": {
        "id": "MRx2Rs5oIfSe",
        "colab_type": "code",
        "outputId": "12fa9bc6-22d8-4b07-de80-fb8c1dafd3d2",
        "colab": {
          "base_uri": "https://localhost:8080/",
          "height": 52
        }
      },
      "source": [
        "try:\n",
        "  ! mkdir '/content/drive/My Drive/Colab Notebooks/opensource_datasets/'\n",
        "except e as Exception:\n",
        "  pass  \n",
        "import os\n",
        "try:\n",
        "  ! mkdir '/content/drive/My Drive/Colab Notebooks/opensource_datasets/wisdm'\n",
        "except e as Exception:\n",
        "  pass  \n",
        "import os\n",
        "os.chdir('/content/drive/My Drive/Colab Notebooks/opensource_datasets/wisdm')"
      ],
      "execution_count": 48,
      "outputs": [
        {
          "output_type": "stream",
          "text": [
            "mkdir: cannot create directory ‘/content/drive/My Drive/Colab Notebooks/opensource_datasets/’: File exists\n",
            "mkdir: cannot create directory ‘/content/drive/My Drive/Colab Notebooks/opensource_datasets/wisdm’: File exists\n"
          ],
          "name": "stdout"
        }
      ]
    },
    {
      "cell_type": "markdown",
      "metadata": {
        "id": "DXs3peqUI8QM",
        "colab_type": "text"
      },
      "source": [
        "# C) Download from website and unzip contents ##"
      ]
    },
    {
      "cell_type": "code",
      "metadata": {
        "id": "b4hQnzCbIgvF",
        "colab_type": "code",
        "colab": {}
      },
      "source": [
        "if os.path.isfile('wisdm.gz' )==False:\n",
        "  try:\n",
        "    ! wget -O wisdm.gz http://www.cis.fordham.edu/wisdm/includes/datasets/latest/WISDM_ar_latest.tar.gz\n",
        "    ! tar -xf wisdm.gz\n",
        "    print('done unzipping')\n",
        "  except:\n",
        "    pass\n",
        "\n",
        "  ! ls"
      ],
      "execution_count": 0,
      "outputs": []
    },
    {
      "cell_type": "markdown",
      "metadata": {
        "id": "WuJS5m1SJvR1",
        "colab_type": "text"
      },
      "source": [
        "# D) Run the following demo code written by [Nils Ackermann](https://towardsdatascience.com/human-activity-recognition-har-tutorial-with-keras-and-core-ml-part-1-8c05e365dfa0?)# "
      ]
    },
    {
      "cell_type": "code",
      "metadata": {
        "id": "VlO0ei_RIxxY",
        "colab_type": "code",
        "colab": {}
      },
      "source": [
        "import numpy as np\n",
        "import pandas as pd\n",
        "\n",
        "# https://towardsdatascience.com/human-activity-recognition-har-tutorial-with-keras-and-core-ml-part-1-8c05e365dfa0?\n",
        "\n",
        "def read_data(file_path):\n",
        "\n",
        "    column_names = ['user-id',\n",
        "                    'activity',\n",
        "                    'timestamp',\n",
        "                    'x-axis',\n",
        "                    'y-axis',\n",
        "                    'z-axis']\n",
        "    df = pd.read_csv(file_path,\n",
        "                     header=None,\n",
        "                     names=column_names)\n",
        "    # Last column has a \";\" character which must be removed ...\n",
        "    df['z-axis'].replace(regex=True,\n",
        "      inplace=True,\n",
        "      to_replace=r';',\n",
        "      value=r'')\n",
        "    # ... and then this column must be transformed to float explicitly\n",
        "    df['z-axis'] = df['z-axis'].apply(convert_to_float)\n",
        "    # This is very important otherwise the model will not fit and loss\n",
        "    # will show up as NAN\n",
        "    df.dropna(axis=0, how='any', inplace=True)\n",
        "\n",
        "    return df\n",
        "\n",
        "def convert_to_float(x):\n",
        "\n",
        "    try:\n",
        "        return np.float(x)\n",
        "    except:\n",
        "        return np.nan\n",
        " \n",
        "def show_basic_dataframe_info(dataframe):\n",
        "\n",
        "    # Shape and how many rows and columns\n",
        "    print('Number of columns in the dataframe: %i' % (dataframe.shape[1]))\n",
        "    print('Number of rows in the dataframe: %i\\n' % (dataframe.shape[0]))\n",
        "\n",
        "# Load data set containing all the data from csv\n",
        "df = read_data('WISDM_ar_v1.1/WISDM_ar_v1.1_raw.txt')\n"
      ],
      "execution_count": 0,
      "outputs": []
    },
    {
      "cell_type": "markdown",
      "metadata": {
        "id": "kUEPILAbKbeS",
        "colab_type": "text"
      },
      "source": [
        "## Examine the data ##"
      ]
    },
    {
      "cell_type": "code",
      "metadata": {
        "id": "sxIPjT6cKWtS",
        "colab_type": "code",
        "outputId": "8c853c7a-267f-4368-b031-bd438f68c557",
        "colab": {
          "base_uri": "https://localhost:8080/",
          "height": 206
        }
      },
      "source": [
        "df.head(5)"
      ],
      "execution_count": 51,
      "outputs": [
        {
          "output_type": "execute_result",
          "data": {
            "text/html": [
              "<div>\n",
              "<style scoped>\n",
              "    .dataframe tbody tr th:only-of-type {\n",
              "        vertical-align: middle;\n",
              "    }\n",
              "\n",
              "    .dataframe tbody tr th {\n",
              "        vertical-align: top;\n",
              "    }\n",
              "\n",
              "    .dataframe thead th {\n",
              "        text-align: right;\n",
              "    }\n",
              "</style>\n",
              "<table border=\"1\" class=\"dataframe\">\n",
              "  <thead>\n",
              "    <tr style=\"text-align: right;\">\n",
              "      <th></th>\n",
              "      <th>user-id</th>\n",
              "      <th>activity</th>\n",
              "      <th>timestamp</th>\n",
              "      <th>x-axis</th>\n",
              "      <th>y-axis</th>\n",
              "      <th>z-axis</th>\n",
              "    </tr>\n",
              "  </thead>\n",
              "  <tbody>\n",
              "    <tr>\n",
              "      <th>0</th>\n",
              "      <td>33</td>\n",
              "      <td>Jogging</td>\n",
              "      <td>49105962326000</td>\n",
              "      <td>-0.7</td>\n",
              "      <td>12.7</td>\n",
              "      <td>0.5</td>\n",
              "    </tr>\n",
              "    <tr>\n",
              "      <th>1</th>\n",
              "      <td>33</td>\n",
              "      <td>Jogging</td>\n",
              "      <td>49106062271000</td>\n",
              "      <td>5.0</td>\n",
              "      <td>11.3</td>\n",
              "      <td>1.0</td>\n",
              "    </tr>\n",
              "    <tr>\n",
              "      <th>2</th>\n",
              "      <td>33</td>\n",
              "      <td>Jogging</td>\n",
              "      <td>49106112167000</td>\n",
              "      <td>4.9</td>\n",
              "      <td>10.9</td>\n",
              "      <td>-0.1</td>\n",
              "    </tr>\n",
              "    <tr>\n",
              "      <th>3</th>\n",
              "      <td>33</td>\n",
              "      <td>Jogging</td>\n",
              "      <td>49106222305000</td>\n",
              "      <td>-0.6</td>\n",
              "      <td>18.5</td>\n",
              "      <td>3.0</td>\n",
              "    </tr>\n",
              "    <tr>\n",
              "      <th>4</th>\n",
              "      <td>33</td>\n",
              "      <td>Jogging</td>\n",
              "      <td>49106332290000</td>\n",
              "      <td>-1.2</td>\n",
              "      <td>12.1</td>\n",
              "      <td>7.2</td>\n",
              "    </tr>\n",
              "  </tbody>\n",
              "</table>\n",
              "</div>"
            ],
            "text/plain": [
              "   user-id activity       timestamp  x-axis  y-axis  z-axis\n",
              "0       33  Jogging  49105962326000    -0.7    12.7     0.5\n",
              "1       33  Jogging  49106062271000     5.0    11.3     1.0\n",
              "2       33  Jogging  49106112167000     4.9    10.9    -0.1\n",
              "3       33  Jogging  49106222305000    -0.6    18.5     3.0\n",
              "4       33  Jogging  49106332290000    -1.2    12.1     7.2"
            ]
          },
          "metadata": {
            "tags": []
          },
          "execution_count": 51
        }
      ]
    },
    {
      "cell_type": "markdown",
      "metadata": {
        "id": "4DP3_8obMpUS",
        "colab_type": "text"
      },
      "source": [
        "## Prepare the output labels ##"
      ]
    },
    {
      "cell_type": "code",
      "metadata": {
        "id": "3tzzfcBqKag9",
        "colab_type": "code",
        "outputId": "6a68099e-8ab3-4a39-9c22-3d12d213f4ff",
        "colab": {
          "base_uri": "https://localhost:8080/",
          "height": 34
        }
      },
      "source": [
        "import seaborn as sns\n",
        "import matplotlib.pyplot as plt\n",
        "from sklearn import preprocessing\n",
        "\n",
        "\n",
        "# Set some standard parameters upfront\n",
        "pd.options.display.float_format = '{:.1f}'.format\n",
        "sns.set() # Default seaborn look and feel\n",
        "\n",
        "\n",
        "plt.style.use('ggplot')\n",
        "\n",
        "# Same labels will be reused throughout the program\n",
        "LABELS = ['Downstairs',\n",
        "          'Jogging',\n",
        "          'Sitting',\n",
        "          'Standing',\n",
        "          'Upstairs',\n",
        "          'Walking']\n",
        "\n",
        "\n",
        "# The number of steps within one time segment\n",
        "TIME_PERIODS = 80\n",
        "\n",
        "# The steps to take from one segment to the next; if this value is equal to TIME_PERIODS, then there is no overlap between the segments\n",
        "STEP_DISTANCE = 40\n",
        "\n",
        "\n",
        "# Define column name of the label vector\n",
        "LABEL = 'ActivityEncoded'\n",
        "# Transform the labels from String to Integer via LabelEncoder\n",
        "\n",
        "le = preprocessing.LabelEncoder()\n",
        "# Add a new column to the existing DataFrame with the encoded values\n",
        "df[LABEL] = le.fit_transform(df['activity'].values.ravel())\n",
        "\n",
        "num_classes = le.classes_.size\n",
        "print(list(le.classes_))"
      ],
      "execution_count": 52,
      "outputs": [
        {
          "output_type": "stream",
          "text": [
            "['Downstairs', 'Jogging', 'Sitting', 'Standing', 'Upstairs', 'Walking']\n"
          ],
          "name": "stdout"
        }
      ]
    },
    {
      "cell_type": "markdown",
      "metadata": {
        "id": "_VutlDPgMsbt",
        "colab_type": "text"
      },
      "source": [
        "## Split the dataset into training and test subsets ##"
      ]
    },
    {
      "cell_type": "code",
      "metadata": {
        "id": "Sp0jLBCWLKie",
        "colab_type": "code",
        "colab": {}
      },
      "source": [
        "pd.options.mode.chained_assignment = None  # default='warn'\n",
        "\n",
        "df_test = df[df['user-id'] > 28]\n",
        "df_train = df[df['user-id'] <= 28]\n"
      ],
      "execution_count": 0,
      "outputs": []
    },
    {
      "cell_type": "markdown",
      "metadata": {
        "id": "QOJamwIzM2Ut",
        "colab_type": "text"
      },
      "source": [
        "## Normalize the input data ##"
      ]
    },
    {
      "cell_type": "code",
      "metadata": {
        "id": "Ybe6nM2BM5Ke",
        "colab_type": "code",
        "colab": {}
      },
      "source": [
        "df_train['x-axis'] = df_train['x-axis'] / df_train['x-axis'].max()\n",
        "df_train['y-axis'] = df_train['y-axis'] / df_train['y-axis'].max()\n",
        "df_train['z-axis'] = df_train['z-axis'] / df_train['z-axis'].max()\n",
        "\n",
        "# Round numbers\n",
        "df_train = df_train.round({'x-axis': 4, 'y-axis': 4, 'z-axis': 4})"
      ],
      "execution_count": 0,
      "outputs": []
    },
    {
      "cell_type": "code",
      "metadata": {
        "id": "TzaCXWHHLqMY",
        "colab_type": "code",
        "outputId": "e8445d85-ef9a-4194-fe59-28cb84e610d6",
        "colab": {
          "base_uri": "https://localhost:8080/",
          "height": 34
        }
      },
      "source": [
        "import keras\n",
        "print('keras version ', keras.__version__)\n"
      ],
      "execution_count": 55,
      "outputs": [
        {
          "output_type": "stream",
          "text": [
            "keras version  2.2.5\n"
          ],
          "name": "stdout"
        }
      ]
    },
    {
      "cell_type": "code",
      "metadata": {
        "id": "YOlezCu2MVHB",
        "colab_type": "code",
        "colab": {}
      },
      "source": [
        ""
      ],
      "execution_count": 0,
      "outputs": []
    },
    {
      "cell_type": "markdown",
      "metadata": {
        "id": "gDccK9tBNF0m",
        "colab_type": "text"
      },
      "source": [
        "## Prepare the training dataset ##"
      ]
    },
    {
      "cell_type": "code",
      "metadata": {
        "id": "aMfE8IclMmdD",
        "colab_type": "code",
        "colab": {}
      },
      "source": [
        "from scipy import stats\n",
        "from keras.utils import np_utils\n",
        "\n",
        "\n",
        "def create_segments_and_labels(df, time_steps, step, label_name):\n",
        "\n",
        "    # x, y, z acceleration as features\n",
        "    N_FEATURES = 3\n",
        "    # Number of steps to advance in each iteration (for me, it should always\n",
        "    # be equal to the time_steps in order to have no overlap between segments)\n",
        "    # step = time_steps\n",
        "    segments = []\n",
        "    labels = []\n",
        "    for i in range(0, len(df) - time_steps, step):\n",
        "        xs = df['x-axis'].values[i: i + time_steps]\n",
        "        ys = df['y-axis'].values[i: i + time_steps]\n",
        "        zs = df['z-axis'].values[i: i + time_steps]\n",
        "        # Retrieve the most often used label in this segment\n",
        "        label = stats.mode(df[label_name][i: i + time_steps])[0][0]\n",
        "        segments.append([xs, ys, zs])\n",
        "        labels.append(label)\n",
        "\n",
        "    # Bring the segments into a better shape\n",
        "    reshaped_segments = np.asarray(segments, dtype= np.float32).reshape(-1, time_steps, N_FEATURES)\n",
        "    labels = np.asarray(labels)\n",
        "\n",
        "    return reshaped_segments, labels\n",
        "\n",
        "x_train, y_train = create_segments_and_labels(df_train,\n",
        "                                              TIME_PERIODS,\n",
        "                                              STEP_DISTANCE,\n",
        "                                              LABEL)\n",
        "\n",
        "# convert to float\n",
        "x_train = x_train.astype('float32')\n",
        "y_train = y_train.astype('float32')\n",
        "\n",
        "# convert output labels using one-hot-encoding\n",
        "y_train_hot = np_utils.to_categorical(y_train, num_classes)\n"
      ],
      "execution_count": 0,
      "outputs": []
    },
    {
      "cell_type": "code",
      "metadata": {
        "id": "jmIFj7ShNO65",
        "colab_type": "code",
        "outputId": "f2821931-a1b2-4dc9-d664-1a9f27e427c6",
        "colab": {
          "base_uri": "https://localhost:8080/",
          "height": 86
        }
      },
      "source": [
        "num_time_periods, num_sensors = x_train.shape[1], x_train.shape[2]\n",
        "print( 'Input data:', x_train.shape, '\\n3 time-series and 80 timepoints; total of', y_train.shape, 'samples' )\n",
        "\n",
        "input_shape = (num_time_periods*num_sensors)\n",
        "\n",
        "\n",
        "x_train = x_train.reshape(x_train.shape[0], input_shape)\n",
        "\n",
        "print('After reshaping, x_train has shape', x_train.shape)\n",
        "print('input_shape:', input_shape)"
      ],
      "execution_count": 57,
      "outputs": [
        {
          "output_type": "stream",
          "text": [
            "Input data: (20868, 80, 3) \n",
            "3 time-series and 80 timepoints; total of (20868,) samples\n",
            "After reshaping, x_train has shape (20868, 240)\n",
            "input_shape: 240\n"
          ],
          "name": "stdout"
        }
      ]
    },
    {
      "cell_type": "markdown",
      "metadata": {
        "id": "IRHcLJHAOqwJ",
        "colab_type": "text"
      },
      "source": [
        "## Construct the model ##"
      ]
    },
    {
      "cell_type": "code",
      "metadata": {
        "id": "GL4ztYe-N1ph",
        "colab_type": "code",
        "outputId": "ad6503f1-9156-47a7-cb1e-8f4b1dff1c01",
        "colab": {
          "base_uri": "https://localhost:8080/",
          "height": 382
        }
      },
      "source": [
        "import tensorflow as tf\n",
        "\n",
        "model_m = tf.keras.models.Sequential()\n",
        "# Remark: since coreml cannot accept vector shapes of complex shape like\n",
        "# [80,3] this workaround is used in order to reshape the vector internally\n",
        "# prior feeding it into the network\n",
        "model_m.add(tf.keras.layers.Reshape((TIME_PERIODS, 3), input_shape=(input_shape,)))\n",
        "model_m.add(tf.keras.layers.Dense(100, activation='relu'))\n",
        "model_m.add(tf.keras.layers.Dense(100, activation='relu'))\n",
        "\n",
        "model_m.add(tf.keras.layers.Dense(100, activation='relu'))\n",
        "model_m.add(tf.keras.layers.Flatten())\n",
        "model_m.add(tf.keras.layers.Dense(num_classes, activation='softmax'))\n",
        "print(model_m.summary())\n"
      ],
      "execution_count": 58,
      "outputs": [
        {
          "output_type": "stream",
          "text": [
            "Model: \"sequential_1\"\n",
            "_________________________________________________________________\n",
            "Layer (type)                 Output Shape              Param #   \n",
            "=================================================================\n",
            "reshape_1 (Reshape)          (None, 80, 3)             0         \n",
            "_________________________________________________________________\n",
            "dense_4 (Dense)              (None, 80, 100)           400       \n",
            "_________________________________________________________________\n",
            "dense_5 (Dense)              (None, 80, 100)           10100     \n",
            "_________________________________________________________________\n",
            "dense_6 (Dense)              (None, 80, 100)           10100     \n",
            "_________________________________________________________________\n",
            "flatten_1 (Flatten)          (None, 8000)              0         \n",
            "_________________________________________________________________\n",
            "dense_7 (Dense)              (None, 6)                 48006     \n",
            "=================================================================\n",
            "Total params: 68,606\n",
            "Trainable params: 68,606\n",
            "Non-trainable params: 0\n",
            "_________________________________________________________________\n",
            "None\n"
          ],
          "name": "stdout"
        }
      ]
    },
    {
      "cell_type": "markdown",
      "metadata": {
        "id": "xRQpFOMXOtL1",
        "colab_type": "text"
      },
      "source": [
        "## Train it! ##"
      ]
    },
    {
      "cell_type": "code",
      "metadata": {
        "id": "qFt6hd052JkS",
        "colab_type": "code",
        "colab": {
          "base_uri": "https://localhost:8080/",
          "height": 642
        },
        "outputId": "abd5d818-d469-4999-9ced-5e8e9b75bca2"
      },
      "source": [
        "callbacks_list = [\n",
        "    tf.keras.callbacks.ModelCheckpoint(\n",
        "        filepath='best_model.{epoch:02d}-{val_loss:.2f}.h5',\n",
        "        monitor='val_loss', save_best_only=True),\n",
        "    tf.keras.callbacks.EarlyStopping(monitor='accuracy', patience=1)\n",
        "]\n",
        "\n",
        "model_m.compile(loss='categorical_crossentropy',\n",
        "                optimizer='adam', metrics=['accuracy'])\n",
        "\n",
        "# Hyper-parameters\n",
        "BATCH_SIZE = 400\n",
        "EPOCHS = 50\n",
        "\n",
        "# Enable validation to use ModelCheckpoint and EarlyStopping callbacks.\n",
        "history = model_m.fit(x_train,\n",
        "                      y_train_hot,\n",
        "                      batch_size=BATCH_SIZE,\n",
        "                      epochs=EPOCHS,\n",
        "                      callbacks=callbacks_list,\n",
        "                      validation_split=0.2,\n",
        "                      verbose=1)"
      ],
      "execution_count": 59,
      "outputs": [
        {
          "output_type": "stream",
          "text": [
            "Epoch 1/50\n",
            "42/42 [==============================] - 7s 163ms/step - loss: 1.0735 - accuracy: 0.6414 - val_loss: 0.7456 - val_accuracy: 0.8146\n",
            "Epoch 2/50\n",
            "42/42 [==============================] - 6s 149ms/step - loss: 0.5890 - accuracy: 0.7921 - val_loss: 0.6748 - val_accuracy: 0.8023\n",
            "Epoch 3/50\n",
            "42/42 [==============================] - 6s 149ms/step - loss: 0.5184 - accuracy: 0.8117 - val_loss: 0.6935 - val_accuracy: 0.7911\n",
            "Epoch 4/50\n",
            "42/42 [==============================] - 6s 148ms/step - loss: 0.4905 - accuracy: 0.8214 - val_loss: 0.6859 - val_accuracy: 0.7748\n",
            "Epoch 5/50\n",
            "42/42 [==============================] - 6s 149ms/step - loss: 0.4700 - accuracy: 0.8277 - val_loss: 0.6886 - val_accuracy: 0.7777\n",
            "Epoch 6/50\n",
            "42/42 [==============================] - 6s 149ms/step - loss: 0.4455 - accuracy: 0.8389 - val_loss: 0.6566 - val_accuracy: 0.8052\n",
            "Epoch 7/50\n",
            "42/42 [==============================] - 6s 147ms/step - loss: 0.4338 - accuracy: 0.8420 - val_loss: 0.7045 - val_accuracy: 0.7590\n",
            "Epoch 8/50\n",
            "42/42 [==============================] - 6s 147ms/step - loss: 0.4165 - accuracy: 0.8480 - val_loss: 0.7055 - val_accuracy: 0.7702\n",
            "Epoch 9/50\n",
            "42/42 [==============================] - 6s 148ms/step - loss: 0.3936 - accuracy: 0.8573 - val_loss: 0.6924 - val_accuracy: 0.7683\n",
            "Epoch 10/50\n",
            "42/42 [==============================] - 6s 148ms/step - loss: 0.3802 - accuracy: 0.8618 - val_loss: 0.7079 - val_accuracy: 0.7676\n",
            "Epoch 11/50\n",
            "42/42 [==============================] - 6s 148ms/step - loss: 0.3662 - accuracy: 0.8662 - val_loss: 0.7503 - val_accuracy: 0.7288\n",
            "Epoch 12/50\n",
            "42/42 [==============================] - 6s 147ms/step - loss: 0.3546 - accuracy: 0.8679 - val_loss: 0.7465 - val_accuracy: 0.7547\n",
            "Epoch 13/50\n",
            "42/42 [==============================] - 6s 147ms/step - loss: 0.3432 - accuracy: 0.8730 - val_loss: 0.8359 - val_accuracy: 0.7015\n",
            "Epoch 14/50\n",
            "42/42 [==============================] - 6s 143ms/step - loss: 0.3325 - accuracy: 0.8777 - val_loss: 0.7773 - val_accuracy: 0.7487\n",
            "Epoch 15/50\n",
            "42/42 [==============================] - 6s 144ms/step - loss: 0.3282 - accuracy: 0.8779 - val_loss: 0.7938 - val_accuracy: 0.7319\n",
            "Epoch 16/50\n",
            "42/42 [==============================] - 6s 144ms/step - loss: 0.3209 - accuracy: 0.8807 - val_loss: 0.8080 - val_accuracy: 0.7183\n",
            "Epoch 17/50\n",
            "42/42 [==============================] - 6s 144ms/step - loss: 0.3029 - accuracy: 0.8881 - val_loss: 0.8184 - val_accuracy: 0.7417\n",
            "Epoch 18/50\n",
            "42/42 [==============================] - 6s 148ms/step - loss: 0.3041 - accuracy: 0.8863 - val_loss: 0.8976 - val_accuracy: 0.6950\n"
          ],
          "name": "stdout"
        }
      ]
    },
    {
      "cell_type": "markdown",
      "metadata": {
        "id": "jJLDHSSuQIes",
        "colab_type": "text"
      },
      "source": [
        "## Examine the training progress and evaluate the trained model ##"
      ]
    },
    {
      "cell_type": "code",
      "metadata": {
        "id": "b8XUbhKvQHdB",
        "colab_type": "code",
        "outputId": "c55a4ce7-7d72-4d15-c043-30c74ac44b45",
        "colab": {
          "base_uri": "https://localhost:8080/",
          "height": 528
        }
      },
      "source": [
        "plt.figure(figsize=(6, 4))\n",
        "plt.plot(history.history['accuracy'], 'r', label='Accuracy of training data')\n",
        "plt.plot(history.history['val_accuracy'], 'b', label='Accuracy of validation data')\n",
        "plt.plot(history.history['loss'], 'r--', label='Loss of training data')\n",
        "plt.plot(history.history['val_loss'], 'b--', label='Loss of validation data')\n",
        "plt.title('Model Accuracy and Loss')\n",
        "plt.ylabel('Accuracy and Loss')\n",
        "plt.xlabel('Training Epoch')\n",
        "plt.ylim(0)\n",
        "plt.legend()\n",
        "plt.show()\n",
        "\n",
        "# Print confusion matrix for training data\n",
        "y_pred_train = model_m.predict(x_train)\n",
        "# Take the class with the highest probability from the train predictions\n",
        "max_y_pred_train = np.argmax(y_pred_train, axis=1)\n",
        "\n",
        "\n",
        "from sklearn.metrics import classification_report\n",
        "print(classification_report(y_train, max_y_pred_train))\n"
      ],
      "execution_count": 60,
      "outputs": [
        {
          "output_type": "display_data",
          "data": {
            "image/png": "[encoded data removed]",
            "text/plain": [
              "<Figure size 432x288 with 1 Axes>"
            ]
          },
          "metadata": {
            "tags": []
          }
        },
        {
          "output_type": "stream",
          "text": [
            "              precision    recall  f1-score   support\n",
            "\n",
            "         0.0       0.65      0.40      0.50      1864\n",
            "         1.0       0.98      0.97      0.98      6567\n",
            "         2.0       0.98      0.99      0.98      1050\n",
            "         3.0       0.98      0.99      0.98       833\n",
            "         4.0       0.54      0.74      0.63      2342\n",
            "         5.0       0.88      0.87      0.88      8212\n",
            "\n",
            "    accuracy                           0.86     20868\n",
            "   macro avg       0.84      0.83      0.82     20868\n",
            "weighted avg       0.86      0.86      0.86     20868\n",
            "\n"
          ],
          "name": "stdout"
        }
      ]
    },
    {
      "cell_type": "markdown",
      "metadata": {
        "id": "uPkUZnlSRlEp",
        "colab_type": "text"
      },
      "source": [
        "## Prepare the test subset ##"
      ]
    },
    {
      "cell_type": "code",
      "metadata": {
        "id": "5LNztCcFRbK2",
        "colab_type": "code",
        "colab": {}
      },
      "source": [
        "df_test['x-axis'] = df_test['x-axis'] / df_test['x-axis'].max()\n",
        "df_test['y-axis'] = df_test['y-axis'] / df_test['y-axis'].max()\n",
        "df_test['z-axis'] = df_test['z-axis'] / df_test['z-axis'].max()\n",
        "\n",
        "# Round numbers\n",
        "df_test = df_test.round({'x-axis': 4, 'y-axis': 4, 'z-axis': 4})\n",
        "\n",
        "x_test, y_test = create_segments_and_labels( df_test,\n",
        "                                              TIME_PERIODS,\n",
        "                                              STEP_DISTANCE,\n",
        "                                              LABEL)\n",
        "# convert to float\n",
        "x_test = x_test.astype('float32')\n",
        "y_test = y_test.astype('float32')\n",
        "\n",
        "# convert output labels using one-hot-encoding\n",
        "y_test_hot = np_utils.to_categorical(y_test, num_classes)\n"
      ],
      "execution_count": 0,
      "outputs": []
    },
    {
      "cell_type": "code",
      "metadata": {
        "id": "snDg3BHpTN0s",
        "colab_type": "code",
        "colab": {
          "base_uri": "https://localhost:8080/",
          "height": 34
        },
        "outputId": "27ae8817-df42-4f6f-9654-8a7849502651"
      },
      "source": [
        "y_test.shape"
      ],
      "execution_count": 62,
      "outputs": [
        {
          "output_type": "execute_result",
          "data": {
            "text/plain": [
              "(6584,)"
            ]
          },
          "metadata": {
            "tags": []
          },
          "execution_count": 62
        }
      ]
    },
    {
      "cell_type": "markdown",
      "metadata": {
        "id": "e2UPc2DrQVgD",
        "colab_type": "text"
      },
      "source": [
        "## Evaluate the model on the test set and report results with a confusion matrix ##"
      ]
    },
    {
      "cell_type": "code",
      "metadata": {
        "id": "iCAfeJ0FQHfg",
        "colab_type": "code",
        "outputId": "0dc7b2a7-886e-42dd-fdd3-c9709dd4a82b",
        "colab": {
          "base_uri": "https://localhost:8080/",
          "height": 1000
        }
      },
      "source": [
        "plt.figure(figsize=(6, 4))\n",
        "plt.plot(history.history['accuracy'], 'r', label='Accuracy of training data')\n",
        "plt.plot(history.history['val_accuracy'], 'b', label='Accuracy of validation data')\n",
        "plt.plot(history.history['loss'], 'r--', label='Loss of training data')\n",
        "plt.plot(history.history['val_loss'], 'b--', label='Loss of validation data')\n",
        "plt.title('Model Accuracy and Loss')\n",
        "plt.ylabel('Accuracy and Loss')\n",
        "plt.xlabel('Training Epoch')\n",
        "plt.ylim(0)\n",
        "plt.legend()\n",
        "plt.show()\n",
        "\n",
        "# Print confusion matrix for training data\n",
        "y_pred_train = model_m.predict(x_train)\n",
        "# Take the class with the highest probability from the train predictions\n",
        "max_y_pred_train = np.argmax(y_pred_train, axis=1)\n",
        "\n",
        "\n",
        "print(classification_report(y_train, max_y_pred_train))\n",
        "\n",
        "\n",
        "x_test = x_test.reshape(x_test.shape[0], input_shape)\n",
        "\n",
        "y_pred_test = model_m.predict(x_test)\n",
        "\n",
        "# Take the class with the highest probability from the test predictions\n",
        "max_y_pred_test = np.argmax(y_pred_test, axis=1)\n",
        "\n",
        "\n",
        "import seaborn as sns  # ! pip install seaborn\n",
        "import matplotlib.pyplot as plt\n",
        "from sklearn import metrics\n",
        "\n",
        "def show_confusion_matrix(validations, predictions, LABELS ):\n",
        "\n",
        "    matrix = metrics.confusion_matrix(validations, predictions)\n",
        "    plt.figure(figsize=(6, 4))\n",
        "    sns.heatmap(matrix,\n",
        "                cmap='coolwarm',\n",
        "                linecolor='white',\n",
        "                linewidths=1,\n",
        "                xticklabels=LABELS,\n",
        "                yticklabels=LABELS,\n",
        "                annot=True,\n",
        "                fmt='d')\n",
        "    plt.title('Confusion Matrix')\n",
        "    plt.ylabel('True Label')\n",
        "    plt.xlabel('Predicted Label')\n",
        "    plt.show()\n",
        "\n",
        "# y_test, max_y_pred_test are (nSamples,1), LABELS is a list of the classes, indexed from 0 up to num_classes-1\n",
        "show_confusion_matrix(y_test, max_y_pred_test, LABELS )\n",
        "\n",
        "print(classification_report(y_test, max_y_pred_test))"
      ],
      "execution_count": 63,
      "outputs": [
        {
          "output_type": "display_data",
          "data": {
            "image/png": "[encoded data removed]",
            "text/plain": [
              "<Figure size 432x288 with 1 Axes>"
            ]
          },
          "metadata": {
            "tags": []
          }
        },
        {
          "output_type": "stream",
          "text": [
            "              precision    recall  f1-score   support\n",
            "\n",
            "         0.0       0.65      0.40      0.50      1864\n",
            "         1.0       0.98      0.97      0.98      6567\n",
            "         2.0       0.98      0.99      0.98      1050\n",
            "         3.0       0.98      0.99      0.98       833\n",
            "         4.0       0.54      0.74      0.63      2342\n",
            "         5.0       0.88      0.87      0.88      8212\n",
            "\n",
            "    accuracy                           0.86     20868\n",
            "   macro avg       0.84      0.83      0.82     20868\n",
            "weighted avg       0.86      0.86      0.86     20868\n",
            "\n"
          ],
          "name": "stdout"
        },
        {
          "output_type": "display_data",
          "data": {
            "image/png": "[encoded data removed]",
            "text/plain": [
              "<Figure size 432x288 with 2 Axes>"
            ]
          },
          "metadata": {
            "tags": []
          }
        },
        {
          "output_type": "stream",
          "text": [
            "              precision    recall  f1-score   support\n",
            "\n",
            "         0.0       0.60      0.25      0.35       650\n",
            "         1.0       0.82      0.94      0.88      1990\n",
            "         2.0       0.79      1.00      0.88       452\n",
            "         3.0       0.85      0.68      0.76       370\n",
            "         4.0       0.42      0.54      0.47       725\n",
            "         5.0       0.80      0.75      0.78      2397\n",
            "\n",
            "    accuracy                           0.75      6584\n",
            "   macro avg       0.71      0.69      0.69      6584\n",
            "weighted avg       0.75      0.75      0.74      6584\n",
            "\n"
          ],
          "name": "stdout"
        }
      ]
    },
    {
      "cell_type": "markdown",
      "metadata": {
        "id": "MAGQ_diISe8a",
        "colab_type": "text"
      },
      "source": [
        "# E) Change some hyperparameters and examine effect of the changes #"
      ]
    },
    {
      "cell_type": "code",
      "metadata": {
        "id": "x-HbYRBPSdtc",
        "colab_type": "code",
        "colab": {
          "base_uri": "https://localhost:8080/",
          "height": 1000
        },
        "outputId": "0450d528-fbc3-4a37-f0af-90416bcfaf30"
      },
      "source": [
        "callbacks_list = [\n",
        "    tf.keras.callbacks.ModelCheckpoint(\n",
        "        filepath='best_model.{epoch:02d}-{val_loss:.2f}.h5',\n",
        "        monitor='val_loss', save_best_only=True),\n",
        "    tf.keras.callbacks.EarlyStopping(monitor='accuracy', patience=2) # <-- changed\n",
        "]\n",
        "\n",
        "model_m.compile(loss='categorical_crossentropy',\n",
        "                optimizer='adam', metrics=['accuracy'])\n",
        "\n",
        "# Hyper-parameters\n",
        "BATCH_SIZE = 128 # <-- changed\n",
        "EPOCHS = 100  # <-- changed\n",
        "\n",
        "# Enable validation to use ModelCheckpoint and EarlyStopping callbacks.\n",
        "history = model_m.fit(x_train,\n",
        "                      y_train_hot,\n",
        "                      batch_size=BATCH_SIZE,\n",
        "                      epochs=EPOCHS,\n",
        "                      initial_epoch=0,                      \n",
        "                      callbacks=callbacks_list,\n",
        "                      validation_split=0.2,\n",
        "                      verbose=1)"
      ],
      "execution_count": 64,
      "outputs": [
        {
          "output_type": "stream",
          "text": [
            "Epoch 1/100\n",
            "131/131 [==============================] - 7s 55ms/step - loss: 0.3146 - accuracy: 0.8831 - val_loss: 0.7825 - val_accuracy: 0.7465\n",
            "Epoch 2/100\n",
            "131/131 [==============================] - 7s 53ms/step - loss: 0.2931 - accuracy: 0.8900 - val_loss: 0.8241 - val_accuracy: 0.7254\n",
            "Epoch 3/100\n",
            "131/131 [==============================] - 7s 53ms/step - loss: 0.2868 - accuracy: 0.8925 - val_loss: 0.9537 - val_accuracy: 0.6890\n",
            "Epoch 4/100\n",
            "131/131 [==============================] - 7s 54ms/step - loss: 0.2790 - accuracy: 0.8957 - val_loss: 0.9147 - val_accuracy: 0.7075\n",
            "Epoch 5/100\n",
            "131/131 [==============================] - 7s 57ms/step - loss: 0.2667 - accuracy: 0.8980 - val_loss: 0.8873 - val_accuracy: 0.7242\n",
            "Epoch 6/100\n",
            "131/131 [==============================] - 7s 53ms/step - loss: 0.2556 - accuracy: 0.9052 - val_loss: 1.0982 - val_accuracy: 0.6423\n",
            "Epoch 7/100\n",
            "131/131 [==============================] - 7s 53ms/step - loss: 0.2475 - accuracy: 0.9078 - val_loss: 0.8725 - val_accuracy: 0.7324\n",
            "Epoch 8/100\n",
            "131/131 [==============================] - 7s 52ms/step - loss: 0.2412 - accuracy: 0.9086 - val_loss: 0.9273 - val_accuracy: 0.7106\n",
            "Epoch 9/100\n",
            "131/131 [==============================] - 7s 52ms/step - loss: 0.2332 - accuracy: 0.9142 - val_loss: 0.9837 - val_accuracy: 0.6914\n",
            "Epoch 10/100\n",
            "131/131 [==============================] - 7s 52ms/step - loss: 0.2167 - accuracy: 0.9198 - val_loss: 1.0400 - val_accuracy: 0.6888\n",
            "Epoch 11/100\n",
            "131/131 [==============================] - 7s 53ms/step - loss: 0.2153 - accuracy: 0.9206 - val_loss: 1.2867 - val_accuracy: 0.6114\n",
            "Epoch 12/100\n",
            "131/131 [==============================] - 7s 54ms/step - loss: 0.2074 - accuracy: 0.9236 - val_loss: 0.9637 - val_accuracy: 0.7405\n",
            "Epoch 13/100\n",
            "131/131 [==============================] - 8s 57ms/step - loss: 0.2018 - accuracy: 0.9241 - val_loss: 1.0514 - val_accuracy: 0.6981\n",
            "Epoch 14/100\n",
            "131/131 [==============================] - 7s 53ms/step - loss: 0.1886 - accuracy: 0.9315 - val_loss: 1.1254 - val_accuracy: 0.6864\n",
            "Epoch 15/100\n",
            "131/131 [==============================] - 7s 54ms/step - loss: 0.1856 - accuracy: 0.9302 - val_loss: 1.1978 - val_accuracy: 0.6644\n",
            "Epoch 16/100\n",
            "131/131 [==============================] - 7s 53ms/step - loss: 0.1786 - accuracy: 0.9348 - val_loss: 1.1194 - val_accuracy: 0.6768\n",
            "Epoch 17/100\n",
            "131/131 [==============================] - 7s 54ms/step - loss: 0.1787 - accuracy: 0.9341 - val_loss: 1.0703 - val_accuracy: 0.6945\n",
            "Epoch 18/100\n",
            "131/131 [==============================] - 7s 53ms/step - loss: 0.1619 - accuracy: 0.9411 - val_loss: 1.1374 - val_accuracy: 0.7103\n",
            "Epoch 19/100\n",
            "131/131 [==============================] - 7s 53ms/step - loss: 0.1552 - accuracy: 0.9440 - val_loss: 1.1647 - val_accuracy: 0.6885\n",
            "Epoch 20/100\n",
            "131/131 [==============================] - 7s 55ms/step - loss: 0.1485 - accuracy: 0.9469 - val_loss: 1.3915 - val_accuracy: 0.6430\n",
            "Epoch 21/100\n",
            "131/131 [==============================] - 7s 54ms/step - loss: 0.1449 - accuracy: 0.9465 - val_loss: 1.3505 - val_accuracy: 0.6691\n",
            "Epoch 22/100\n",
            "131/131 [==============================] - 7s 52ms/step - loss: 0.1365 - accuracy: 0.9517 - val_loss: 1.2687 - val_accuracy: 0.6804\n",
            "Epoch 23/100\n",
            "131/131 [==============================] - 7s 53ms/step - loss: 0.1413 - accuracy: 0.9487 - val_loss: 1.3226 - val_accuracy: 0.6713\n",
            "Epoch 24/100\n",
            "131/131 [==============================] - 7s 55ms/step - loss: 0.1269 - accuracy: 0.9547 - val_loss: 1.2070 - val_accuracy: 0.7199\n",
            "Epoch 25/100\n",
            "131/131 [==============================] - 7s 53ms/step - loss: 0.1210 - accuracy: 0.9554 - val_loss: 1.4233 - val_accuracy: 0.6756\n",
            "Epoch 26/100\n",
            "131/131 [==============================] - 8s 57ms/step - loss: 0.1187 - accuracy: 0.9578 - val_loss: 1.6503 - val_accuracy: 0.6198\n",
            "Epoch 27/100\n",
            "131/131 [==============================] - 7s 53ms/step - loss: 0.1125 - accuracy: 0.9606 - val_loss: 1.3599 - val_accuracy: 0.7003\n",
            "Epoch 28/100\n",
            "131/131 [==============================] - 7s 52ms/step - loss: 0.1051 - accuracy: 0.9639 - val_loss: 1.3031 - val_accuracy: 0.7312\n",
            "Epoch 29/100\n",
            "131/131 [==============================] - 7s 52ms/step - loss: 0.0985 - accuracy: 0.9653 - val_loss: 1.5247 - val_accuracy: 0.6732\n",
            "Epoch 30/100\n",
            "131/131 [==============================] - 7s 53ms/step - loss: 0.0899 - accuracy: 0.9703 - val_loss: 1.8695 - val_accuracy: 0.6126\n",
            "Epoch 31/100\n",
            "131/131 [==============================] - 7s 52ms/step - loss: 0.0934 - accuracy: 0.9684 - val_loss: 1.4332 - val_accuracy: 0.7463\n",
            "Epoch 32/100\n",
            "131/131 [==============================] - 7s 52ms/step - loss: 0.0986 - accuracy: 0.9642 - val_loss: 1.5582 - val_accuracy: 0.6871\n"
          ],
          "name": "stdout"
        }
      ]
    },
    {
      "cell_type": "code",
      "metadata": {
        "id": "9pjqn7gdS4O5",
        "colab_type": "code",
        "colab": {
          "base_uri": "https://localhost:8080/",
          "height": 1000
        },
        "outputId": "c87b4d81-23e5-467c-ba81-13c397dd9f6a"
      },
      "source": [
        "def draw_plot():\n",
        "  plt.figure(figsize=(6, 4))\n",
        "  plt.plot(history.history['accuracy'], 'r', label='Accuracy of training data')\n",
        "  plt.plot(history.history['val_accuracy'], 'b', label='Accuracy of validation data')\n",
        "  plt.plot(history.history['loss'], 'r--', label='Loss of training data')\n",
        "  plt.plot(history.history['val_loss'], 'b--', label='Loss of validation data')\n",
        "  plt.title('Model Accuracy and Loss')\n",
        "  plt.ylabel('Accuracy and Loss')\n",
        "  plt.xlabel('Training Epoch')\n",
        "  plt.ylim(0)\n",
        "  plt.legend()\n",
        "  plt.show()\n",
        "\n",
        "  # Print confusion matrix for training data\n",
        "  y_pred_train = model_m.predict(x_train)\n",
        "  # Take the class with the highest probability from the train predictions\n",
        "  max_y_pred_train = np.argmax(y_pred_train, axis=1)\n",
        "\n",
        "  from sklearn.metrics import classification_report\n",
        "  print(classification_report(y_train, max_y_pred_train))\n",
        "\n",
        "draw_plot()\n",
        "\n",
        "x_test = x_test.reshape(x_test.shape[0], input_shape)\n",
        "\n",
        "y_pred_test = model_m.predict(x_test)\n",
        "\n",
        "# Take the class with the highest probability from the test predictions\n",
        "max_y_pred_test = np.argmax(y_pred_test, axis=1)\n",
        "\n",
        "\n",
        "import seaborn as sns  # ! pip install seaborn\n",
        "import matplotlib.pyplot as plt\n",
        "from sklearn import metrics\n",
        "\n",
        "def show_confusion_matrix(validations, predictions, LABELS ):\n",
        "\n",
        "    matrix = metrics.confusion_matrix(validations, predictions)\n",
        "    plt.figure(figsize=(6, 4))\n",
        "    sns.heatmap(matrix,\n",
        "                cmap='coolwarm',\n",
        "                linecolor='white',\n",
        "                linewidths=1,\n",
        "                xticklabels=LABELS,\n",
        "                yticklabels=LABELS,\n",
        "                annot=True,\n",
        "                fmt='d')\n",
        "    plt.title('Confusion Matrix')\n",
        "    plt.ylabel('True Label')\n",
        "    plt.xlabel('Predicted Label')\n",
        "    plt.show()\n",
        "\n",
        "# y_test, max_y_pred_test are (nSamples,1), LABELS is a list of the classes, indexed from 0 up to num_classes-1\n",
        "show_confusion_matrix(y_test, max_y_pred_test, LABELS )\n",
        "\n",
        "print(classification_report(y_test, max_y_pred_test))"
      ],
      "execution_count": 65,
      "outputs": [
        {
          "output_type": "display_data",
          "data": {
            "image/png": "[encoded data removed]",
            "text/plain": [
              "<Figure size 432x288 with 1 Axes>"
            ]
          },
          "metadata": {
            "tags": []
          }
        },
        {
          "output_type": "stream",
          "text": [
            "              precision    recall  f1-score   support\n",
            "\n",
            "         0.0       0.71      0.86      0.78      1864\n",
            "         1.0       0.98      0.97      0.98      6567\n",
            "         2.0       1.00      1.00      1.00      1050\n",
            "         3.0       1.00      1.00      1.00       833\n",
            "         4.0       0.78      0.83      0.80      2342\n",
            "         5.0       0.96      0.90      0.93      8212\n",
            "\n",
            "    accuracy                           0.92     20868\n",
            "   macro avg       0.90      0.93      0.91     20868\n",
            "weighted avg       0.93      0.92      0.92     20868\n",
            "\n"
          ],
          "name": "stdout"
        },
        {
          "output_type": "display_data",
          "data": {
            "image/png": "[encoded data removed]",
            "text/plain": [
              "<Figure size 432x288 with 2 Axes>"
            ]
          },
          "metadata": {
            "tags": []
          }
        },
        {
          "output_type": "stream",
          "text": [
            "              precision    recall  f1-score   support\n",
            "\n",
            "         0.0       0.49      0.57      0.53       650\n",
            "         1.0       0.77      0.94      0.85      1990\n",
            "         2.0       0.92      1.00      0.96       452\n",
            "         3.0       0.93      0.89      0.91       370\n",
            "         4.0       0.52      0.46      0.49       725\n",
            "         5.0       0.86      0.70      0.77      2397\n",
            "\n",
            "    accuracy                           0.76      6584\n",
            "   macro avg       0.75      0.76      0.75      6584\n",
            "weighted avg       0.77      0.76      0.76      6584\n",
            "\n"
          ],
          "name": "stdout"
        }
      ]
    },
    {
      "cell_type": "markdown",
      "metadata": {
        "id": "EtnNx9KKM8Mm",
        "colab_type": "text"
      },
      "source": [
        "# F) Install library ```coreML``` if not already available #\n",
        "\n",
        "...updating to module 3.1 per suggestions on [CoreML support](https://github.com/apple/coremltools/issues/446)"
      ]
    },
    {
      "cell_type": "code",
      "metadata": {
        "id": "crf8v96O07IS",
        "colab_type": "code",
        "outputId": "5949fc05-7057-4fe5-afbf-870f73d8801e",
        "colab": {
          "base_uri": "https://localhost:8080/",
          "height": 104
        }
      },
      "source": [
        "! pip install coremltools==3.1\n",
        "\n",
        "import coremltools"
      ],
      "execution_count": 66,
      "outputs": [
        {
          "output_type": "stream",
          "text": [
            "Requirement already satisfied: coremltools==3.1 in /usr/local/lib/python3.6/dist-packages (3.1)\n",
            "Requirement already satisfied: numpy>=1.14.5 in /usr/local/lib/python3.6/dist-packages (from coremltools==3.1) (1.18.2)\n",
            "Requirement already satisfied: protobuf>=3.1.0 in /usr/local/lib/python3.6/dist-packages (from coremltools==3.1) (3.10.0)\n",
            "Requirement already satisfied: six>=1.10.0 in /usr/local/lib/python3.6/dist-packages (from coremltools==3.1) (1.12.0)\n",
            "Requirement already satisfied: setuptools in /usr/local/lib/python3.6/dist-packages (from protobuf>=3.1.0->coremltools==3.1) (46.1.3)\n"
          ],
          "name": "stdout"
        }
      ]
    },
    {
      "cell_type": "markdown",
      "metadata": {
        "id": "YGWuSusjU_Ua",
        "colab_type": "text"
      },
      "source": [
        "# G) Export to CoreML file #"
      ]
    },
    {
      "cell_type": "code",
      "metadata": {
        "id": "V7ANwAopsEQK",
        "colab_type": "code",
        "colab": {}
      },
      "source": [
        "coreml_model = coremltools.converters.keras.convert(model_m,\n",
        "                                                    input_names=['acceleration'],\n",
        "                                                    output_names=['output'],\n",
        "                                                    class_labels=LABELS)\n",
        "print(coreml_model)\n",
        "coreml_model.author = 'Nils Ackermann'\n",
        "coreml_model.license = 'N/A'\n",
        "coreml_model.short_description = 'Activity based recognition based on WISDM dataset'\n",
        "coreml_model.output_description['output'] = 'Probability of each activity'\n",
        "coreml_model.output_description['classLabel'] = 'Labels of activity'\n",
        "\n",
        "coreml_model.save('HARClassifier.mlmodel')"
      ],
      "execution_count": 0,
      "outputs": []
    }
  ]
}
