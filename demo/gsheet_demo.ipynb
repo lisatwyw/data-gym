{
  "nbformat": 4,
  "nbformat_minor": 0,
  "metadata": {
    "colab": {
      "name": "gspread_demo.ipynb",
      "provenance": [],
      "collapsed_sections": [],
      "authorship_tag": "ABX9TyOAgIGXHEa/heCsRp3jWT4k",
      "include_colab_link": true
    },
    "kernelspec": {
      "name": "python3",
      "display_name": "Python 3"
    }
  },
  "cells": [
    {
      "cell_type": "markdown",
      "metadata": {
        "id": "view-in-github",
        "colab_type": "text"
      },
      "source": [
        "<a href=\"https://colab.research.google.com/github/lisatwyw/data-gym/blob/master/gspread_demo.ipynb\" target=\"_parent\"><img src=\"https://colab.research.google.com/assets/colab-badge.svg\" alt=\"Open In Colab\"/></a>"
      ]
    },
    {
      "cell_type": "code",
      "metadata": {
        "id": "Lb7ZoNMM2_nH",
        "colab_type": "code",
        "colab": {}
      },
      "source": [
        "from google.colab import auth\n",
        "\n",
        "auth.authenticate_user()\n",
        "\n",
        "import gspread\n",
        "\n",
        "from oauth2client.client import GoogleCredentials\n",
        "gc = gspread.authorize(GoogleCredentials.get_application_default())\n"
      ],
      "execution_count": 0,
      "outputs": []
    },
    {
      "cell_type": "markdown",
      "metadata": {
        "id": "_e1tPrKS3r_T",
        "colab_type": "text"
      },
      "source": [
        "# Import data from demo spreadsheet (\"AirBnB open data\") #"
      ]
    },
    {
      "cell_type": "code",
      "metadata": {
        "id": "_Y5DXy3j3xc5",
        "colab_type": "code",
        "colab": {}
      },
      "source": [
        "url2='https://docs.google.com/spreadsheets/d/1YTD0pxdGTGAzM8IiWDfLL4AZPjrFRN-vpGUiLQWOtoI/edit#gid=1512387781'\n",
        "\n",
        "gc2= gspread.authorize(GoogleCredentials.get_application_default())\n",
        "wb2= gc2.open_by_url(url2)\n",
        "\n",
        "sheet = wb2.worksheet('AB_NYC_2019')\n",
        "\n"
      ],
      "execution_count": 0,
      "outputs": []
    },
    {
      "cell_type": "code",
      "metadata": {
        "id": "gQDz6Cl55vxG",
        "colab_type": "code",
        "colab": {}
      },
      "source": [
        "import pandas as pd\n",
        "import matplotlib.pyplot as plt\n",
        "\n",
        "data = sheet.get_all_values()\n",
        "\n",
        "df = pd.DataFrame( data )\n",
        "\n"
      ],
      "execution_count": 0,
      "outputs": []
    },
    {
      "cell_type": "code",
      "metadata": {
        "id": "w-PuSUBD69qj",
        "colab_type": "code",
        "colab": {
          "base_uri": "https://localhost:8080/",
          "height": 551
        },
        "outputId": "43ea7fe9-17f2-42b0-a65c-61a4cd56f545"
      },
      "source": [
        "df.head().transpose()"
      ],
      "execution_count": 16,
      "outputs": [
        {
          "output_type": "execute_result",
          "data": {
            "text/html": [
              "<div>\n",
              "<style scoped>\n",
              "    .dataframe tbody tr th:only-of-type {\n",
              "        vertical-align: middle;\n",
              "    }\n",
              "\n",
              "    .dataframe tbody tr th {\n",
              "        vertical-align: top;\n",
              "    }\n",
              "\n",
              "    .dataframe thead th {\n",
              "        text-align: right;\n",
              "    }\n",
              "</style>\n",
              "<table border=\"1\" class=\"dataframe\">\n",
              "  <thead>\n",
              "    <tr style=\"text-align: right;\">\n",
              "      <th></th>\n",
              "      <th>0</th>\n",
              "      <th>1</th>\n",
              "      <th>2</th>\n",
              "      <th>3</th>\n",
              "      <th>4</th>\n",
              "    </tr>\n",
              "  </thead>\n",
              "  <tbody>\n",
              "    <tr>\n",
              "      <th>0</th>\n",
              "      <td>id</td>\n",
              "      <td>2539</td>\n",
              "      <td>2595</td>\n",
              "      <td>3647</td>\n",
              "      <td>3831</td>\n",
              "    </tr>\n",
              "    <tr>\n",
              "      <th>1</th>\n",
              "      <td>name</td>\n",
              "      <td>Clean &amp; quiet apt home by the park</td>\n",
              "      <td>Skylit Midtown Castle</td>\n",
              "      <td>THE VILLAGE OF HARLEM....NEW YORK !</td>\n",
              "      <td>Cozy Entire Floor of Brownstone</td>\n",
              "    </tr>\n",
              "    <tr>\n",
              "      <th>2</th>\n",
              "      <td>host_id</td>\n",
              "      <td>2787</td>\n",
              "      <td>2845</td>\n",
              "      <td>4632</td>\n",
              "      <td>4869</td>\n",
              "    </tr>\n",
              "    <tr>\n",
              "      <th>3</th>\n",
              "      <td>host_name</td>\n",
              "      <td>John</td>\n",
              "      <td>Jennifer</td>\n",
              "      <td>Elisabeth</td>\n",
              "      <td>LisaRoxanne</td>\n",
              "    </tr>\n",
              "    <tr>\n",
              "      <th>4</th>\n",
              "      <td>neighbourhood_group</td>\n",
              "      <td>Brooklyn</td>\n",
              "      <td>Manhattan</td>\n",
              "      <td>Manhattan</td>\n",
              "      <td>Brooklyn</td>\n",
              "    </tr>\n",
              "    <tr>\n",
              "      <th>5</th>\n",
              "      <td>neighbourhood</td>\n",
              "      <td>Kensington</td>\n",
              "      <td>Midtown</td>\n",
              "      <td>Harlem</td>\n",
              "      <td>Clinton Hill</td>\n",
              "    </tr>\n",
              "    <tr>\n",
              "      <th>6</th>\n",
              "      <td>latitude</td>\n",
              "      <td>40.64749</td>\n",
              "      <td>40.75362</td>\n",
              "      <td>40.80902</td>\n",
              "      <td>40.68514</td>\n",
              "    </tr>\n",
              "    <tr>\n",
              "      <th>7</th>\n",
              "      <td>longitude</td>\n",
              "      <td>-73.97237</td>\n",
              "      <td>-73.98377</td>\n",
              "      <td>-73.9419</td>\n",
              "      <td>-73.95976</td>\n",
              "    </tr>\n",
              "    <tr>\n",
              "      <th>8</th>\n",
              "      <td>room_type</td>\n",
              "      <td>Private room</td>\n",
              "      <td>Entire home/apt</td>\n",
              "      <td>Private room</td>\n",
              "      <td>Entire home/apt</td>\n",
              "    </tr>\n",
              "    <tr>\n",
              "      <th>9</th>\n",
              "      <td>price</td>\n",
              "      <td>149</td>\n",
              "      <td>225</td>\n",
              "      <td>150</td>\n",
              "      <td>89</td>\n",
              "    </tr>\n",
              "    <tr>\n",
              "      <th>10</th>\n",
              "      <td>minimum_nights</td>\n",
              "      <td>1</td>\n",
              "      <td>1</td>\n",
              "      <td>3</td>\n",
              "      <td>1</td>\n",
              "    </tr>\n",
              "    <tr>\n",
              "      <th>11</th>\n",
              "      <td>number_of_reviews</td>\n",
              "      <td>9</td>\n",
              "      <td>45</td>\n",
              "      <td>0</td>\n",
              "      <td>270</td>\n",
              "    </tr>\n",
              "    <tr>\n",
              "      <th>12</th>\n",
              "      <td>last_review</td>\n",
              "      <td>2018-10-19</td>\n",
              "      <td>2019-05-21</td>\n",
              "      <td></td>\n",
              "      <td>2019-07-05</td>\n",
              "    </tr>\n",
              "    <tr>\n",
              "      <th>13</th>\n",
              "      <td>reviews_per_month</td>\n",
              "      <td>0.21</td>\n",
              "      <td>0.38</td>\n",
              "      <td></td>\n",
              "      <td>4.64</td>\n",
              "    </tr>\n",
              "    <tr>\n",
              "      <th>14</th>\n",
              "      <td>calculated_host_listings_count</td>\n",
              "      <td>6</td>\n",
              "      <td>2</td>\n",
              "      <td>1</td>\n",
              "      <td>1</td>\n",
              "    </tr>\n",
              "    <tr>\n",
              "      <th>15</th>\n",
              "      <td>availability_365</td>\n",
              "      <td>365</td>\n",
              "      <td>355</td>\n",
              "      <td>365</td>\n",
              "      <td>194</td>\n",
              "    </tr>\n",
              "  </tbody>\n",
              "</table>\n",
              "</div>"
            ],
            "text/plain": [
              "                                 0  ...                                4\n",
              "0                               id  ...                             3831\n",
              "1                             name  ...  Cozy Entire Floor of Brownstone\n",
              "2                          host_id  ...                             4869\n",
              "3                        host_name  ...                      LisaRoxanne\n",
              "4              neighbourhood_group  ...                         Brooklyn\n",
              "5                    neighbourhood  ...                     Clinton Hill\n",
              "6                         latitude  ...                         40.68514\n",
              "7                        longitude  ...                        -73.95976\n",
              "8                        room_type  ...                  Entire home/apt\n",
              "9                            price  ...                               89\n",
              "10                  minimum_nights  ...                                1\n",
              "11               number_of_reviews  ...                              270\n",
              "12                     last_review  ...                       2019-07-05\n",
              "13               reviews_per_month  ...                             4.64\n",
              "14  calculated_host_listings_count  ...                                1\n",
              "15                availability_365  ...                              194\n",
              "\n",
              "[16 rows x 5 columns]"
            ]
          },
          "metadata": {
            "tags": []
          },
          "execution_count": 16
        }
      ]
    }
  ]
}
