{
  "nbformat": 4,
  "nbformat_minor": 0,
  "metadata": {
    "colab": {
      "name": "WISDM.ipynb",
      "provenance": [],
      "collapsed_sections": [],
      "toc_visible": true,
      "include_colab_link": true
    },
    "kernelspec": {
      "name": "python3",
      "display_name": "Python 3"
    }
  },
  "cells": [
    {
      "cell_type": "markdown",
      "metadata": {
        "id": "view-in-github",
        "colab_type": "text"
      },
      "source": [
        "<a href=\"https://colab.research.google.com/github/lisatwyw/data-gym/blob/master/WISDM.ipynb\" target=\"_parent\"><img src=\"https://colab.research.google.com/assets/colab-badge.svg\" alt=\"Open In Colab\"/></a>"
      ]
    },
    {
      "cell_type": "markdown",
      "metadata": {
        "id": "LhHGvYR3KNKG",
        "colab_type": "text"
      },
      "source": [
        "# Overview #\n",
        "\n",
        "- This is a notebook prepared for you to try out classification tasks using time-series data acquired using accelerometers of iPhone's.\n",
        "\n",
        "- You'll get to:\n",
        " - train a model based on neural networks \n",
        " - learn about ```CoreML```\n",
        " \n",
        "- Post-demo exercise: try to replicate below using the [Actitracker dataset](http://www.cis.fordham.edu/wisdm/includes/datasets/latest/WISDM_at_latest.tar.gz)"
      ]
    },
    {
      "cell_type": "markdown",
      "metadata": {
        "id": "FqM7vSoRHyg3",
        "colab_type": "text"
      },
      "source": [
        "# A) Mount Google drive #\n"
      ]
    },
    {
      "cell_type": "code",
      "metadata": {
        "id": "zKhYw_BxHyAa",
        "colab_type": "code",
        "outputId": "24155c55-5112-439e-e716-6227406d9c33",
        "colab": {
          "base_uri": "https://localhost:8080/",
          "height": 124
        }
      },
      "source": [
        "from google.colab import drive\n",
        "drive.mount('/content/drive')\n",
        "\n",
        "from pydrive.auth import GoogleAuth\n",
        "from pydrive.drive import GoogleDrive\n",
        "from google.colab import auth\n",
        "from oauth2client.client import GoogleCredentials"
      ],
      "execution_count": 0,
      "outputs": [
        {
          "output_type": "stream",
          "text": [
            "Go to this URL in a browser: https://accounts.google.com/o/oauth2/auth?client_id=947318989803-6bn6qk8qdgf4n4g3pfee6491hc0brc4i.apps.googleusercontent.com&redirect_uri=urn%3aietf%3awg%3aoauth%3a2.0%3aoob&response_type=code&scope=email%20https%3a%2f%2fwww.googleapis.com%2fauth%2fdocs.test%20https%3a%2f%2fwww.googleapis.com%2fauth%2fdrive%20https%3a%2f%2fwww.googleapis.com%2fauth%2fdrive.photos.readonly%20https%3a%2f%2fwww.googleapis.com%2fauth%2fpeopleapi.readonly\n",
            "\n",
            "Enter your authorization code:\n",
            "··········\n",
            "Mounted at /content/drive\n"
          ],
          "name": "stdout"
        }
      ]
    },
    {
      "cell_type": "markdown",
      "metadata": {
        "id": "rKZJs-RrIhKO",
        "colab_type": "text"
      },
      "source": [
        "# B) Create subfolder ``wisdm`` in your ```opensource_datasets``` folder #"
      ]
    },
    {
      "cell_type": "code",
      "metadata": {
        "id": "MRx2Rs5oIfSe",
        "colab_type": "code",
        "outputId": "4cdcac38-43c8-4459-de7c-c2963ea50054",
        "colab": {
          "base_uri": "https://localhost:8080/",
          "height": 34
        }
      },
      "source": [
        "try:\n",
        "  ! mkdir '/content/drive/My Drive/Colab Notebooks/opensource_datasets/'\n",
        "except e as Exception:\n",
        "  pass  \n",
        "import os\n",
        "try:\n",
        "  ! mkdir '/content/drive/My Drive/Colab Notebooks/opensource_datasets/wisdm'\n",
        "except e as Exception:\n",
        "  pass  \n",
        "import os\n",
        "os.chdir('/content/drive/My Drive/Colab Notebooks/opensource_datasets/wisdm')"
      ],
      "execution_count": 0,
      "outputs": [
        {
          "output_type": "stream",
          "text": [
            "mkdir: cannot create directory ‘/content/drive/My Drive/Colab Notebooks/opensource_datasets/’: File exists\n"
          ],
          "name": "stdout"
        }
      ]
    },
    {
      "cell_type": "markdown",
      "metadata": {
        "id": "DXs3peqUI8QM",
        "colab_type": "text"
      },
      "source": [
        "# C) Download from website and unzip contents ##"
      ]
    },
    {
      "cell_type": "code",
      "metadata": {
        "id": "b4hQnzCbIgvF",
        "colab_type": "code",
        "outputId": "954df5f9-fd42-41c0-ec6b-4f355c576267",
        "colab": {
          "base_uri": "https://localhost:8080/",
          "height": 52
        }
      },
      "source": [
        "try:\n",
        "  ! wget -O wisdm.gz http://www.cis.fordham.edu/wisdm/includes/datasets/latest/WISDM_ar_latest.tar.gz\n",
        "  ! tar -xf wisdm.gz\n",
        "  print('done unzipping')\n",
        "except:\n",
        "  pass\n",
        "\n",
        "! ls"
      ],
      "execution_count": 0,
      "outputs": [
        {
          "output_type": "stream",
          "text": [
            "done\n",
            "WISDM_ar_v1.1  wisdm.gz\n"
          ],
          "name": "stdout"
        }
      ]
    },
    {
      "cell_type": "markdown",
      "metadata": {
        "id": "WuJS5m1SJvR1",
        "colab_type": "text"
      },
      "source": [
        "# D) Run the following demo code written by [Nils Ackermann](https://towardsdatascience.com/human-activity-recognition-har-tutorial-with-keras-and-core-ml-part-1-8c05e365dfa0?)# "
      ]
    },
    {
      "cell_type": "code",
      "metadata": {
        "id": "VlO0ei_RIxxY",
        "colab_type": "code",
        "colab": {}
      },
      "source": [
        "import numpy as np\n",
        "import pandas as pd\n",
        "\n",
        "# https://towardsdatascience.com/human-activity-recognition-har-tutorial-with-keras-and-core-ml-part-1-8c05e365dfa0?\n",
        "\n",
        "def read_data(file_path):\n",
        "\n",
        "    column_names = ['user-id',\n",
        "                    'activity',\n",
        "                    'timestamp',\n",
        "                    'x-axis',\n",
        "                    'y-axis',\n",
        "                    'z-axis']\n",
        "    df = pd.read_csv(file_path,\n",
        "                     header=None,\n",
        "                     names=column_names)\n",
        "    # Last column has a \";\" character which must be removed ...\n",
        "    df['z-axis'].replace(regex=True,\n",
        "      inplace=True,\n",
        "      to_replace=r';',\n",
        "      value=r'')\n",
        "    # ... and then this column must be transformed to float explicitly\n",
        "    df['z-axis'] = df['z-axis'].apply(convert_to_float)\n",
        "    # This is very important otherwise the model will not fit and loss\n",
        "    # will show up as NAN\n",
        "    df.dropna(axis=0, how='any', inplace=True)\n",
        "\n",
        "    return df\n",
        "\n",
        "def convert_to_float(x):\n",
        "\n",
        "    try:\n",
        "        return np.float(x)\n",
        "    except:\n",
        "        return np.nan\n",
        " \n",
        "def show_basic_dataframe_info(dataframe):\n",
        "\n",
        "    # Shape and how many rows and columns\n",
        "    print('Number of columns in the dataframe: %i' % (dataframe.shape[1]))\n",
        "    print('Number of rows in the dataframe: %i\\n' % (dataframe.shape[0]))\n",
        "\n",
        "# Load data set containing all the data from csv\n",
        "df = read_data('WISDM_ar_v1.1/WISDM_ar_v1.1_raw.txt')\n"
      ],
      "execution_count": 0,
      "outputs": []
    },
    {
      "cell_type": "markdown",
      "metadata": {
        "id": "kUEPILAbKbeS",
        "colab_type": "text"
      },
      "source": [
        "## Examine the data ##"
      ]
    },
    {
      "cell_type": "code",
      "metadata": {
        "id": "sxIPjT6cKWtS",
        "colab_type": "code",
        "outputId": "ff4fdf56-e267-4e79-b29f-440667daf85f",
        "colab": {
          "base_uri": "https://localhost:8080/",
          "height": 206
        }
      },
      "source": [
        "df.head(5)"
      ],
      "execution_count": 0,
      "outputs": [
        {
          "output_type": "execute_result",
          "data": {
            "text/html": [
              "<div>\n",
              "<style scoped>\n",
              "    .dataframe tbody tr th:only-of-type {\n",
              "        vertical-align: middle;\n",
              "    }\n",
              "\n",
              "    .dataframe tbody tr th {\n",
              "        vertical-align: top;\n",
              "    }\n",
              "\n",
              "    .dataframe thead th {\n",
              "        text-align: right;\n",
              "    }\n",
              "</style>\n",
              "<table border=\"1\" class=\"dataframe\">\n",
              "  <thead>\n",
              "    <tr style=\"text-align: right;\">\n",
              "      <th></th>\n",
              "      <th>user-id</th>\n",
              "      <th>activity</th>\n",
              "      <th>timestamp</th>\n",
              "      <th>x-axis</th>\n",
              "      <th>y-axis</th>\n",
              "      <th>z-axis</th>\n",
              "    </tr>\n",
              "  </thead>\n",
              "  <tbody>\n",
              "    <tr>\n",
              "      <th>0</th>\n",
              "      <td>33</td>\n",
              "      <td>Jogging</td>\n",
              "      <td>49105962326000</td>\n",
              "      <td>-0.694638</td>\n",
              "      <td>12.680544</td>\n",
              "      <td>0.503953</td>\n",
              "    </tr>\n",
              "    <tr>\n",
              "      <th>1</th>\n",
              "      <td>33</td>\n",
              "      <td>Jogging</td>\n",
              "      <td>49106062271000</td>\n",
              "      <td>5.012288</td>\n",
              "      <td>11.264028</td>\n",
              "      <td>0.953424</td>\n",
              "    </tr>\n",
              "    <tr>\n",
              "      <th>2</th>\n",
              "      <td>33</td>\n",
              "      <td>Jogging</td>\n",
              "      <td>49106112167000</td>\n",
              "      <td>4.903325</td>\n",
              "      <td>10.882658</td>\n",
              "      <td>-0.081722</td>\n",
              "    </tr>\n",
              "    <tr>\n",
              "      <th>3</th>\n",
              "      <td>33</td>\n",
              "      <td>Jogging</td>\n",
              "      <td>49106222305000</td>\n",
              "      <td>-0.612916</td>\n",
              "      <td>18.496431</td>\n",
              "      <td>3.023717</td>\n",
              "    </tr>\n",
              "    <tr>\n",
              "      <th>4</th>\n",
              "      <td>33</td>\n",
              "      <td>Jogging</td>\n",
              "      <td>49106332290000</td>\n",
              "      <td>-1.184970</td>\n",
              "      <td>12.108489</td>\n",
              "      <td>7.205164</td>\n",
              "    </tr>\n",
              "  </tbody>\n",
              "</table>\n",
              "</div>"
            ],
            "text/plain": [
              "   user-id activity       timestamp    x-axis     y-axis    z-axis\n",
              "0       33  Jogging  49105962326000 -0.694638  12.680544  0.503953\n",
              "1       33  Jogging  49106062271000  5.012288  11.264028  0.953424\n",
              "2       33  Jogging  49106112167000  4.903325  10.882658 -0.081722\n",
              "3       33  Jogging  49106222305000 -0.612916  18.496431  3.023717\n",
              "4       33  Jogging  49106332290000 -1.184970  12.108489  7.205164"
            ]
          },
          "metadata": {
            "tags": []
          },
          "execution_count": 15
        }
      ]
    },
    {
      "cell_type": "markdown",
      "metadata": {
        "id": "4DP3_8obMpUS",
        "colab_type": "text"
      },
      "source": [
        "## Prepare the output labels ##"
      ]
    },
    {
      "cell_type": "code",
      "metadata": {
        "id": "3tzzfcBqKag9",
        "colab_type": "code",
        "colab": {}
      },
      "source": [
        "import seaborn as sns\n",
        "import matplotlib.pyplot as plt\n",
        "from sklearn import preprocessing\n",
        "\n",
        "\n",
        "# Set some standard parameters upfront\n",
        "pd.options.display.float_format = '{:.1f}'.format\n",
        "sns.set() # Default seaborn look and feel\n",
        "\n",
        "\n",
        "plt.style.use('ggplot')\n",
        "\n",
        "# Same labels will be reused throughout the program\n",
        "LABELS = ['Downstairs',\n",
        "          'Jogging',\n",
        "          'Sitting',\n",
        "          'Standing',\n",
        "          'Upstairs',\n",
        "          'Walking']\n",
        "\n",
        "\n",
        "# The number of steps within one time segment\n",
        "TIME_PERIODS = 80\n",
        "\n",
        "# The steps to take from one segment to the next; if this value is equal to TIME_PERIODS, then there is no overlap between the segments\n",
        "STEP_DISTANCE = 40\n",
        "\n",
        "\n",
        "# Define column name of the label vector\n",
        "LABEL = 'ActivityEncoded'\n",
        "# Transform the labels from String to Integer via LabelEncoder\n",
        "\n",
        "le = preprocessing.LabelEncoder()\n",
        "# Add a new column to the existing DataFrame with the encoded values\n",
        "df[LABEL] = le.fit_transform(df['activity'].values.ravel())\n",
        "\n",
        "num_classes = le.classes_.size\n",
        "print(list(le.classes_))"
      ],
      "execution_count": 0,
      "outputs": []
    },
    {
      "cell_type": "markdown",
      "metadata": {
        "id": "_VutlDPgMsbt",
        "colab_type": "text"
      },
      "source": [
        "## Split the dataset into training and test subsets ##"
      ]
    },
    {
      "cell_type": "code",
      "metadata": {
        "id": "Sp0jLBCWLKie",
        "colab_type": "code",
        "colab": {}
      },
      "source": [
        "pd.options.mode.chained_assignment = None  # default='warn'\n",
        "\n",
        "df_test = df[df['user-id'] > 28]\n",
        "df_train = df[df['user-id'] <= 28]\n"
      ],
      "execution_count": 0,
      "outputs": []
    },
    {
      "cell_type": "markdown",
      "metadata": {
        "id": "QOJamwIzM2Ut",
        "colab_type": "text"
      },
      "source": [
        "## Normalize the input data ##"
      ]
    },
    {
      "cell_type": "code",
      "metadata": {
        "id": "Ybe6nM2BM5Ke",
        "colab_type": "code",
        "colab": {}
      },
      "source": [
        "df_train['x-axis'] = df_train['x-axis'] / df_train['x-axis'].max()\n",
        "df_train['y-axis'] = df_train['y-axis'] / df_train['y-axis'].max()\n",
        "df_train['z-axis'] = df_train['z-axis'] / df_train['z-axis'].max()\n",
        "\n",
        "# Round numbers\n",
        "df_train = df_train.round({'x-axis': 4, 'y-axis': 4, 'z-axis': 4})"
      ],
      "execution_count": 0,
      "outputs": []
    },
    {
      "cell_type": "code",
      "metadata": {
        "id": "TzaCXWHHLqMY",
        "colab_type": "code",
        "outputId": "aa90e696-70c0-4df5-9370-92051297258b",
        "colab": {
          "base_uri": "https://localhost:8080/",
          "height": 34
        }
      },
      "source": [
        "import keras\n",
        "print('keras version ', keras.__version__)\n"
      ],
      "execution_count": 0,
      "outputs": [
        {
          "output_type": "stream",
          "text": [
            "keras version  2.2.5\n"
          ],
          "name": "stdout"
        }
      ]
    },
    {
      "cell_type": "markdown",
      "metadata": {
        "id": "EtnNx9KKM8Mm",
        "colab_type": "text"
      },
      "source": [
        "## Install library ```coreML``` not already available ##"
      ]
    },
    {
      "cell_type": "code",
      "metadata": {
        "id": "YOlezCu2MVHB",
        "colab_type": "code",
        "outputId": "202745d6-b8e5-4aeb-f2d6-e85fcff627ef",
        "colab": {
          "base_uri": "https://localhost:8080/",
          "height": 228
        }
      },
      "source": [
        "! pip install coremltools\n",
        "import coremltools"
      ],
      "execution_count": 0,
      "outputs": [
        {
          "output_type": "stream",
          "text": [
            "Collecting coremltools\n",
            "\u001b[?25l  Downloading https://files.pythonhosted.org/packages/77/19/611916d1ef326d38857d93af5ba184f6ad7491642e0fa4f9082e7d82f034/coremltools-3.3-cp36-none-manylinux1_x86_64.whl (3.4MB)\n",
            "\u001b[K     |████████████████████████████████| 3.4MB 4.8MB/s \n",
            "\u001b[?25hRequirement already satisfied: six>=1.10.0 in /usr/local/lib/python3.6/dist-packages (from coremltools) (1.12.0)\n",
            "Requirement already satisfied: protobuf>=3.1.0 in /usr/local/lib/python3.6/dist-packages (from coremltools) (3.10.0)\n",
            "Requirement already satisfied: numpy>=1.14.5 in /usr/local/lib/python3.6/dist-packages (from coremltools) (1.18.2)\n",
            "Requirement already satisfied: setuptools in /usr/local/lib/python3.6/dist-packages (from protobuf>=3.1.0->coremltools) (46.0.0)\n",
            "Installing collected packages: coremltools\n",
            "Successfully installed coremltools-3.3\n"
          ],
          "name": "stdout"
        },
        {
          "output_type": "stream",
          "text": [
            "WARNING:root:TensorFlow version 1.15.0 detected. Last version known to be fully compatible is 1.14.0 .\n",
            "WARNING:root:Keras version 2.2.5 detected. Last version known to be fully compatible of Keras is 2.2.4 .\n"
          ],
          "name": "stderr"
        }
      ]
    },
    {
      "cell_type": "markdown",
      "metadata": {
        "id": "gDccK9tBNF0m",
        "colab_type": "text"
      },
      "source": [
        "## Prepare the training dataset ##"
      ]
    },
    {
      "cell_type": "code",
      "metadata": {
        "id": "aMfE8IclMmdD",
        "colab_type": "code",
        "colab": {}
      },
      "source": [
        "from scipy import stats\n",
        "from keras.utils import np_utils\n",
        "\n",
        "\n",
        "def create_segments_and_labels(df, time_steps, step, label_name):\n",
        "\n",
        "    # x, y, z acceleration as features\n",
        "    N_FEATURES = 3\n",
        "    # Number of steps to advance in each iteration (for me, it should always\n",
        "    # be equal to the time_steps in order to have no overlap between segments)\n",
        "    # step = time_steps\n",
        "    segments = []\n",
        "    labels = []\n",
        "    for i in range(0, len(df) - time_steps, step):\n",
        "        xs = df['x-axis'].values[i: i + time_steps]\n",
        "        ys = df['y-axis'].values[i: i + time_steps]\n",
        "        zs = df['z-axis'].values[i: i + time_steps]\n",
        "        # Retrieve the most often used label in this segment\n",
        "        label = stats.mode(df[label_name][i: i + time_steps])[0][0]\n",
        "        segments.append([xs, ys, zs])\n",
        "        labels.append(label)\n",
        "\n",
        "    # Bring the segments into a better shape\n",
        "    reshaped_segments = np.asarray(segments, dtype= np.float32).reshape(-1, time_steps, N_FEATURES)\n",
        "    labels = np.asarray(labels)\n",
        "\n",
        "    return reshaped_segments, labels\n",
        "\n",
        "x_train, y_train = create_segments_and_labels(df_train,\n",
        "                                              TIME_PERIODS,\n",
        "                                              STEP_DISTANCE,\n",
        "                                              LABEL)\n",
        "\n",
        "# convert to float\n",
        "x_train = x_train.astype('float32')\n",
        "y_train = y_train.astype('float32')\n",
        "\n",
        "# convert output labels using one-hot-encoding\n",
        "y_train_hot = np_utils.to_categorical(y_train, num_classes)\n"
      ],
      "execution_count": 0,
      "outputs": []
    },
    {
      "cell_type": "code",
      "metadata": {
        "id": "jmIFj7ShNO65",
        "colab_type": "code",
        "outputId": "202a584d-bcf5-4ecd-ed6e-afa4be5aaa8b",
        "colab": {
          "base_uri": "https://localhost:8080/",
          "height": 235
        }
      },
      "source": [
        "num_time_periods, num_sensors = x_train.shape[1], x_train.shape[2]\n",
        "print( 'Input data:', x_train.shape, '\\n3 time-series and 80 timepoints; total of', y_train.shape, 'samples' )\n",
        "\n",
        "input_shape = (num_time_periods*num_sensors)\n",
        "\n",
        "\n",
        "\n",
        "x_train = x_train.reshape(x_train.shape[0], input_shape)\n",
        "\n",
        "print('After reshaping, x_train has shape', x_train.shape)\n",
        "print('input_shape:', input_shape)"
      ],
      "execution_count": 0,
      "outputs": [
        {
          "output_type": "error",
          "ename": "IndexError",
          "evalue": "ignored",
          "traceback": [
            "\u001b[0;31m---------------------------------------------------------------------------\u001b[0m",
            "\u001b[0;31mIndexError\u001b[0m                                Traceback (most recent call last)",
            "\u001b[0;32m<ipython-input-52-29e6480a79b9>\u001b[0m in \u001b[0;36m<module>\u001b[0;34m()\u001b[0m\n\u001b[0;32m----> 1\u001b[0;31m \u001b[0mnum_time_periods\u001b[0m\u001b[0;34m,\u001b[0m \u001b[0mnum_sensors\u001b[0m \u001b[0;34m=\u001b[0m \u001b[0mx_train\u001b[0m\u001b[0;34m.\u001b[0m\u001b[0mshape\u001b[0m\u001b[0;34m[\u001b[0m\u001b[0;36m1\u001b[0m\u001b[0;34m]\u001b[0m\u001b[0;34m,\u001b[0m \u001b[0mx_train\u001b[0m\u001b[0;34m.\u001b[0m\u001b[0mshape\u001b[0m\u001b[0;34m[\u001b[0m\u001b[0;36m2\u001b[0m\u001b[0;34m]\u001b[0m\u001b[0;34m\u001b[0m\u001b[0;34m\u001b[0m\u001b[0m\n\u001b[0m\u001b[1;32m      2\u001b[0m \u001b[0mprint\u001b[0m\u001b[0;34m(\u001b[0m \u001b[0;34m'Input data:'\u001b[0m\u001b[0;34m,\u001b[0m \u001b[0mx_train\u001b[0m\u001b[0;34m.\u001b[0m\u001b[0mshape\u001b[0m\u001b[0;34m,\u001b[0m \u001b[0;34m'\\n3 time-series and 80 timepoints; total of'\u001b[0m\u001b[0;34m,\u001b[0m \u001b[0my_train\u001b[0m\u001b[0;34m.\u001b[0m\u001b[0mshape\u001b[0m\u001b[0;34m,\u001b[0m \u001b[0;34m'samples'\u001b[0m \u001b[0;34m)\u001b[0m\u001b[0;34m\u001b[0m\u001b[0;34m\u001b[0m\u001b[0m\n\u001b[1;32m      3\u001b[0m \u001b[0;34m\u001b[0m\u001b[0m\n\u001b[1;32m      4\u001b[0m \u001b[0minput_shape\u001b[0m \u001b[0;34m=\u001b[0m \u001b[0;34m(\u001b[0m\u001b[0mnum_time_periods\u001b[0m\u001b[0;34m*\u001b[0m\u001b[0mnum_sensors\u001b[0m\u001b[0;34m)\u001b[0m\u001b[0;34m\u001b[0m\u001b[0;34m\u001b[0m\u001b[0m\n\u001b[1;32m      5\u001b[0m \u001b[0mx_train\u001b[0m \u001b[0;34m=\u001b[0m \u001b[0mx_train\u001b[0m\u001b[0;34m.\u001b[0m\u001b[0mreshape\u001b[0m\u001b[0;34m(\u001b[0m\u001b[0mx_train\u001b[0m\u001b[0;34m.\u001b[0m\u001b[0mshape\u001b[0m\u001b[0;34m[\u001b[0m\u001b[0;36m0\u001b[0m\u001b[0;34m]\u001b[0m\u001b[0;34m,\u001b[0m \u001b[0minput_shape\u001b[0m\u001b[0;34m)\u001b[0m\u001b[0;34m\u001b[0m\u001b[0;34m\u001b[0m\u001b[0m\n",
            "\u001b[0;31mIndexError\u001b[0m: tuple index out of range"
          ]
        }
      ]
    },
    {
      "cell_type": "markdown",
      "metadata": {
        "id": "IRHcLJHAOqwJ",
        "colab_type": "text"
      },
      "source": [
        "## Construct the model ##"
      ]
    },
    {
      "cell_type": "code",
      "metadata": {
        "id": "GL4ztYe-N1ph",
        "colab_type": "code",
        "outputId": "43490f65-de21-4ace-a6db-1a5e61592def",
        "colab": {
          "base_uri": "https://localhost:8080/",
          "height": 575
        }
      },
      "source": [
        "from keras.models import Sequential\n",
        "from keras.layers import Dense, Dropout, Flatten, Reshape\n",
        "from keras.layers import Conv2D, MaxPooling2D\n",
        "\n",
        "\n",
        "model_m = Sequential()\n",
        "# Remark: since coreml cannot accept vector shapes of complex shape like\n",
        "# [80,3] this workaround is used in order to reshape the vector internally\n",
        "# prior feeding it into the network\n",
        "model_m.add(Reshape((TIME_PERIODS, 3), input_shape=(input_shape,)))\n",
        "model_m.add(Dense(100, activation='relu'))\n",
        "model_m.add(Dense(100, activation='relu'))\n",
        "model_m.add(Dense(100, activation='relu'))\n",
        "model_m.add(Flatten())\n",
        "model_m.add(Dense(num_classes, activation='softmax'))\n",
        "print(model_m.summary())\n"
      ],
      "execution_count": 0,
      "outputs": [
        {
          "output_type": "stream",
          "text": [
            "x_train shape: (20868, 240)\n",
            "input_shape: 240\n",
            "WARNING:tensorflow:From /usr/local/lib/python3.6/dist-packages/keras/backend/tensorflow_backend.py:541: The name tf.placeholder is deprecated. Please use tf.compat.v1.placeholder instead.\n",
            "\n"
          ],
          "name": "stdout"
        },
        {
          "output_type": "stream",
          "text": [
            "WARNING:tensorflow:From /usr/local/lib/python3.6/dist-packages/keras/backend/tensorflow_backend.py:541: The name tf.placeholder is deprecated. Please use tf.compat.v1.placeholder instead.\n",
            "\n"
          ],
          "name": "stderr"
        },
        {
          "output_type": "stream",
          "text": [
            "WARNING:tensorflow:From /usr/local/lib/python3.6/dist-packages/keras/backend/tensorflow_backend.py:4432: The name tf.random_uniform is deprecated. Please use tf.random.uniform instead.\n",
            "\n"
          ],
          "name": "stdout"
        },
        {
          "output_type": "stream",
          "text": [
            "WARNING:tensorflow:From /usr/local/lib/python3.6/dist-packages/keras/backend/tensorflow_backend.py:4432: The name tf.random_uniform is deprecated. Please use tf.random.uniform instead.\n",
            "\n"
          ],
          "name": "stderr"
        },
        {
          "output_type": "stream",
          "text": [
            "Model: \"sequential_2\"\n",
            "_________________________________________________________________\n",
            "Layer (type)                 Output Shape              Param #   \n",
            "=================================================================\n",
            "reshape_1 (Reshape)          (None, 80, 3)             0         \n",
            "_________________________________________________________________\n",
            "dense_1 (Dense)              (None, 80, 100)           400       \n",
            "_________________________________________________________________\n",
            "dense_2 (Dense)              (None, 80, 100)           10100     \n",
            "_________________________________________________________________\n",
            "dense_3 (Dense)              (None, 80, 100)           10100     \n",
            "_________________________________________________________________\n",
            "flatten_1 (Flatten)          (None, 8000)              0         \n",
            "_________________________________________________________________\n",
            "dense_4 (Dense)              (None, 6)                 48006     \n",
            "=================================================================\n",
            "Total params: 68,606\n",
            "Trainable params: 68,606\n",
            "Non-trainable params: 0\n",
            "_________________________________________________________________\n",
            "None\n"
          ],
          "name": "stdout"
        }
      ]
    },
    {
      "cell_type": "markdown",
      "metadata": {
        "id": "xRQpFOMXOtL1",
        "colab_type": "text"
      },
      "source": [
        "## Train it! ##"
      ]
    },
    {
      "cell_type": "code",
      "metadata": {
        "id": "Em0UTQiVOtTb",
        "colab_type": "code",
        "outputId": "96b4ea17-e28b-4aa7-bbfd-88257f4b617e",
        "colab": {
          "base_uri": "https://localhost:8080/",
          "height": 1000
        }
      },
      "source": [
        "callbacks_list = [\n",
        "    keras.callbacks.ModelCheckpoint(\n",
        "        filepath='best_model.{epoch:02d}-{val_loss:.2f}.h5',\n",
        "        monitor='val_loss', save_best_only=True),\n",
        "    keras.callbacks.EarlyStopping(monitor='acc', patience=1)\n",
        "]\n",
        "\n",
        "model_m.compile(loss='categorical_crossentropy',\n",
        "                optimizer='adam', metrics=['accuracy'])\n",
        "\n",
        "# Hyper-parameters\n",
        "BATCH_SIZE = 400\n",
        "EPOCHS = 50\n",
        "\n",
        "# Enable validation to use ModelCheckpoint and EarlyStopping callbacks.\n",
        "history = model_m.fit(x_train,\n",
        "                      y_train_hot,\n",
        "                      batch_size=BATCH_SIZE,\n",
        "                      epochs=EPOCHS,\n",
        "                      callbacks=callbacks_list,\n",
        "                      validation_split=0.2,\n",
        "                      verbose=1)"
      ],
      "execution_count": 0,
      "outputs": [
        {
          "output_type": "stream",
          "text": [
            "WARNING:tensorflow:From /usr/local/lib/python3.6/dist-packages/keras/optimizers.py:793: The name tf.train.Optimizer is deprecated. Please use tf.compat.v1.train.Optimizer instead.\n",
            "\n"
          ],
          "name": "stdout"
        },
        {
          "output_type": "stream",
          "text": [
            "WARNING:tensorflow:From /usr/local/lib/python3.6/dist-packages/keras/optimizers.py:793: The name tf.train.Optimizer is deprecated. Please use tf.compat.v1.train.Optimizer instead.\n",
            "\n"
          ],
          "name": "stderr"
        },
        {
          "output_type": "stream",
          "text": [
            "WARNING:tensorflow:From /usr/local/lib/python3.6/dist-packages/keras/backend/tensorflow_backend.py:3576: The name tf.log is deprecated. Please use tf.math.log instead.\n",
            "\n"
          ],
          "name": "stdout"
        },
        {
          "output_type": "stream",
          "text": [
            "WARNING:tensorflow:From /usr/local/lib/python3.6/dist-packages/keras/backend/tensorflow_backend.py:3576: The name tf.log is deprecated. Please use tf.math.log instead.\n",
            "\n"
          ],
          "name": "stderr"
        },
        {
          "output_type": "stream",
          "text": [
            "WARNING:tensorflow:From /tensorflow-1.15.0/python3.6/tensorflow_core/python/ops/math_grad.py:1424: where (from tensorflow.python.ops.array_ops) is deprecated and will be removed in a future version.\n",
            "Instructions for updating:\n",
            "Use tf.where in 2.0, which has the same broadcast rule as np.where\n"
          ],
          "name": "stdout"
        },
        {
          "output_type": "stream",
          "text": [
            "WARNING:tensorflow:From /tensorflow-1.15.0/python3.6/tensorflow_core/python/ops/math_grad.py:1424: where (from tensorflow.python.ops.array_ops) is deprecated and will be removed in a future version.\n",
            "Instructions for updating:\n",
            "Use tf.where in 2.0, which has the same broadcast rule as np.where\n"
          ],
          "name": "stderr"
        },
        {
          "output_type": "stream",
          "text": [
            "WARNING:tensorflow:From /usr/local/lib/python3.6/dist-packages/keras/backend/tensorflow_backend.py:1033: The name tf.assign_add is deprecated. Please use tf.compat.v1.assign_add instead.\n",
            "\n"
          ],
          "name": "stdout"
        },
        {
          "output_type": "stream",
          "text": [
            "WARNING:tensorflow:From /usr/local/lib/python3.6/dist-packages/keras/backend/tensorflow_backend.py:1033: The name tf.assign_add is deprecated. Please use tf.compat.v1.assign_add instead.\n",
            "\n"
          ],
          "name": "stderr"
        },
        {
          "output_type": "stream",
          "text": [
            "WARNING:tensorflow:From /usr/local/lib/python3.6/dist-packages/keras/backend/tensorflow_backend.py:1020: The name tf.assign is deprecated. Please use tf.compat.v1.assign instead.\n",
            "\n"
          ],
          "name": "stdout"
        },
        {
          "output_type": "stream",
          "text": [
            "WARNING:tensorflow:From /usr/local/lib/python3.6/dist-packages/keras/backend/tensorflow_backend.py:1020: The name tf.assign is deprecated. Please use tf.compat.v1.assign instead.\n",
            "\n"
          ],
          "name": "stderr"
        },
        {
          "output_type": "stream",
          "text": [
            "WARNING:tensorflow:From /usr/local/lib/python3.6/dist-packages/keras/backend/tensorflow_backend.py:3005: The name tf.Session is deprecated. Please use tf.compat.v1.Session instead.\n",
            "\n"
          ],
          "name": "stdout"
        },
        {
          "output_type": "stream",
          "text": [
            "WARNING:tensorflow:From /usr/local/lib/python3.6/dist-packages/keras/backend/tensorflow_backend.py:3005: The name tf.Session is deprecated. Please use tf.compat.v1.Session instead.\n",
            "\n"
          ],
          "name": "stderr"
        },
        {
          "output_type": "stream",
          "text": [
            "Train on 16694 samples, validate on 4174 samples\n",
            "Epoch 1/50\n",
            "WARNING:tensorflow:From /usr/local/lib/python3.6/dist-packages/keras/backend/tensorflow_backend.py:190: The name tf.get_default_session is deprecated. Please use tf.compat.v1.get_default_session instead.\n",
            "\n"
          ],
          "name": "stdout"
        },
        {
          "output_type": "stream",
          "text": [
            "WARNING:tensorflow:From /usr/local/lib/python3.6/dist-packages/keras/backend/tensorflow_backend.py:190: The name tf.get_default_session is deprecated. Please use tf.compat.v1.get_default_session instead.\n",
            "\n"
          ],
          "name": "stderr"
        },
        {
          "output_type": "stream",
          "text": [
            "WARNING:tensorflow:From /usr/local/lib/python3.6/dist-packages/keras/backend/tensorflow_backend.py:197: The name tf.ConfigProto is deprecated. Please use tf.compat.v1.ConfigProto instead.\n",
            "\n"
          ],
          "name": "stdout"
        },
        {
          "output_type": "stream",
          "text": [
            "WARNING:tensorflow:From /usr/local/lib/python3.6/dist-packages/keras/backend/tensorflow_backend.py:197: The name tf.ConfigProto is deprecated. Please use tf.compat.v1.ConfigProto instead.\n",
            "\n"
          ],
          "name": "stderr"
        },
        {
          "output_type": "stream",
          "text": [
            "WARNING:tensorflow:From /usr/local/lib/python3.6/dist-packages/keras/backend/tensorflow_backend.py:207: The name tf.global_variables is deprecated. Please use tf.compat.v1.global_variables instead.\n",
            "\n"
          ],
          "name": "stdout"
        },
        {
          "output_type": "stream",
          "text": [
            "WARNING:tensorflow:From /usr/local/lib/python3.6/dist-packages/keras/backend/tensorflow_backend.py:207: The name tf.global_variables is deprecated. Please use tf.compat.v1.global_variables instead.\n",
            "\n"
          ],
          "name": "stderr"
        },
        {
          "output_type": "stream",
          "text": [
            "WARNING:tensorflow:From /usr/local/lib/python3.6/dist-packages/keras/backend/tensorflow_backend.py:216: The name tf.is_variable_initialized is deprecated. Please use tf.compat.v1.is_variable_initialized instead.\n",
            "\n"
          ],
          "name": "stdout"
        },
        {
          "output_type": "stream",
          "text": [
            "WARNING:tensorflow:From /usr/local/lib/python3.6/dist-packages/keras/backend/tensorflow_backend.py:216: The name tf.is_variable_initialized is deprecated. Please use tf.compat.v1.is_variable_initialized instead.\n",
            "\n"
          ],
          "name": "stderr"
        },
        {
          "output_type": "stream",
          "text": [
            "WARNING:tensorflow:From /usr/local/lib/python3.6/dist-packages/keras/backend/tensorflow_backend.py:223: The name tf.variables_initializer is deprecated. Please use tf.compat.v1.variables_initializer instead.\n",
            "\n"
          ],
          "name": "stdout"
        },
        {
          "output_type": "stream",
          "text": [
            "WARNING:tensorflow:From /usr/local/lib/python3.6/dist-packages/keras/backend/tensorflow_backend.py:223: The name tf.variables_initializer is deprecated. Please use tf.compat.v1.variables_initializer instead.\n",
            "\n"
          ],
          "name": "stderr"
        },
        {
          "output_type": "stream",
          "text": [
            "16694/16694 [==============================] - 7s 441us/step - loss: 1.0939 - acc: 0.6349 - val_loss: 0.7461 - val_acc: 0.8002\n",
            "Epoch 2/50\n",
            "16694/16694 [==============================] - 7s 396us/step - loss: 0.6100 - acc: 0.7852 - val_loss: 0.6375 - val_acc: 0.8131\n",
            "Epoch 3/50\n",
            "16694/16694 [==============================] - 7s 402us/step - loss: 0.5232 - acc: 0.8090 - val_loss: 0.6111 - val_acc: 0.8349\n",
            "Epoch 4/50\n",
            "16694/16694 [==============================] - 7s 401us/step - loss: 0.4909 - acc: 0.8206 - val_loss: 0.6107 - val_acc: 0.8265\n",
            "Epoch 5/50\n",
            "16694/16694 [==============================] - 7s 402us/step - loss: 0.4681 - acc: 0.8287 - val_loss: 0.6268 - val_acc: 0.8354\n",
            "Epoch 6/50\n",
            "16694/16694 [==============================] - 7s 406us/step - loss: 0.4525 - acc: 0.8346 - val_loss: 0.6449 - val_acc: 0.7990\n",
            "Epoch 7/50\n",
            "16694/16694 [==============================] - 7s 402us/step - loss: 0.4293 - acc: 0.8446 - val_loss: 0.6934 - val_acc: 0.7559\n",
            "Epoch 8/50\n",
            "16694/16694 [==============================] - 7s 398us/step - loss: 0.4083 - acc: 0.8514 - val_loss: 0.7002 - val_acc: 0.7508\n",
            "Epoch 9/50\n",
            "16694/16694 [==============================] - 7s 398us/step - loss: 0.3920 - acc: 0.8550 - val_loss: 0.7084 - val_acc: 0.8040\n",
            "Epoch 10/50\n",
            "16694/16694 [==============================] - 7s 399us/step - loss: 0.3843 - acc: 0.8584 - val_loss: 0.6883 - val_acc: 0.8182\n",
            "Epoch 11/50\n",
            "16694/16694 [==============================] - 7s 399us/step - loss: 0.3728 - acc: 0.8602 - val_loss: 0.6897 - val_acc: 0.8009\n",
            "Epoch 12/50\n",
            "16694/16694 [==============================] - 7s 398us/step - loss: 0.3571 - acc: 0.8682 - val_loss: 0.6922 - val_acc: 0.7887\n",
            "Epoch 13/50\n",
            "16694/16694 [==============================] - 7s 400us/step - loss: 0.3425 - acc: 0.8717 - val_loss: 0.7329 - val_acc: 0.7492\n",
            "Epoch 14/50\n",
            "16694/16694 [==============================] - 7s 401us/step - loss: 0.3332 - acc: 0.8761 - val_loss: 0.7219 - val_acc: 0.7532\n",
            "Epoch 15/50\n",
            "16694/16694 [==============================] - 7s 402us/step - loss: 0.3193 - acc: 0.8813 - val_loss: 0.8093 - val_acc: 0.7204\n",
            "Epoch 16/50\n",
            "16694/16694 [==============================] - 7s 403us/step - loss: 0.3101 - acc: 0.8844 - val_loss: 0.8007 - val_acc: 0.7214\n",
            "Epoch 17/50\n",
            "16694/16694 [==============================] - 7s 401us/step - loss: 0.3022 - acc: 0.8873 - val_loss: 0.7366 - val_acc: 0.7631\n",
            "Epoch 18/50\n",
            "16694/16694 [==============================] - 7s 406us/step - loss: 0.2952 - acc: 0.8888 - val_loss: 0.8622 - val_acc: 0.7108\n",
            "Epoch 19/50\n",
            "16694/16694 [==============================] - 7s 403us/step - loss: 0.2938 - acc: 0.8889 - val_loss: 0.8688 - val_acc: 0.6909\n",
            "Epoch 20/50\n",
            "16694/16694 [==============================] - 7s 403us/step - loss: 0.2842 - acc: 0.8936 - val_loss: 0.8080 - val_acc: 0.7552\n",
            "Epoch 21/50\n",
            "16694/16694 [==============================] - 7s 405us/step - loss: 0.2736 - acc: 0.8991 - val_loss: 0.8228 - val_acc: 0.7417\n",
            "Epoch 22/50\n",
            "16694/16694 [==============================] - 7s 399us/step - loss: 0.2705 - acc: 0.8978 - val_loss: 0.8630 - val_acc: 0.7197\n"
          ],
          "name": "stdout"
        }
      ]
    },
    {
      "cell_type": "markdown",
      "metadata": {
        "id": "jJLDHSSuQIes",
        "colab_type": "text"
      },
      "source": [
        "## Examine the training progress and evaluate the trained model ##"
      ]
    },
    {
      "cell_type": "code",
      "metadata": {
        "id": "b8XUbhKvQHdB",
        "colab_type": "code",
        "outputId": "ce6c20cd-5844-4bb2-fe63-7eb92be7e3ce",
        "colab": {
          "base_uri": "https://localhost:8080/",
          "height": 528
        }
      },
      "source": [
        "plt.figure(figsize=(6, 4))\n",
        "plt.plot(history.history['acc'], 'r', label='Accuracy of training data')\n",
        "plt.plot(history.history['val_acc'], 'b', label='Accuracy of validation data')\n",
        "plt.plot(history.history['loss'], 'r--', label='Loss of training data')\n",
        "plt.plot(history.history['val_loss'], 'b--', label='Loss of validation data')\n",
        "plt.title('Model Accuracy and Loss')\n",
        "plt.ylabel('Accuracy and Loss')\n",
        "plt.xlabel('Training Epoch')\n",
        "plt.ylim(0)\n",
        "plt.legend()\n",
        "plt.show()\n",
        "\n",
        "# Print confusion matrix for training data\n",
        "y_pred_train = model_m.predict(x_train)\n",
        "# Take the class with the highest probability from the train predictions\n",
        "max_y_pred_train = np.argmax(y_pred_train, axis=1)\n",
        "\n",
        "\n",
        "from sklearn.metrics import classification_report\n",
        "print(classification_report(y_train, max_y_pred_train))"
      ],
      "execution_count": 0,
      "outputs": [
        {
          "output_type": "display_data",
          "data": {
            "image/png": "[encoded data removed]",
            "text/plain": [
              "<Figure size 432x288 with 1 Axes>"
            ]
          },
          "metadata": {
            "tags": []
          }
        },
        {
          "output_type": "stream",
          "text": [
            "              precision    recall  f1-score   support\n",
            "\n",
            "         0.0       0.63      0.49      0.55      1864\n",
            "         1.0       0.98      0.98      0.98      6567\n",
            "         2.0       0.99      0.99      0.99      1050\n",
            "         3.0       0.99      0.99      0.99       833\n",
            "         4.0       0.61      0.69      0.64      2342\n",
            "         5.0       0.89      0.89      0.89      8212\n",
            "\n",
            "    accuracy                           0.87     20868\n",
            "   macro avg       0.85      0.84      0.84     20868\n",
            "weighted avg       0.87      0.87      0.87     20868\n",
            "\n"
          ],
          "name": "stdout"
        }
      ]
    },
    {
      "cell_type": "markdown",
      "metadata": {
        "id": "uPkUZnlSRlEp",
        "colab_type": "text"
      },
      "source": [
        "## Prepare the test subset ##"
      ]
    },
    {
      "cell_type": "code",
      "metadata": {
        "id": "5LNztCcFRbK2",
        "colab_type": "code",
        "colab": {}
      },
      "source": [
        "df_test['x-axis'] = df_test['x-axis'] / df_test['x-axis'].max()\n",
        "df_test['y-axis'] = df_test['y-axis'] / df_test['y-axis'].max()\n",
        "df_test['z-axis'] = df_test['z-axis'] / df_test['z-axis'].max()\n",
        "\n",
        "# Round numbers\n",
        "df_test = df_test.round({'x-axis': 4, 'y-axis': 4, 'z-axis': 4})\n",
        "\n",
        "x_test, y_test = create_segments_and_labels( df_test,\n",
        "                                              TIME_PERIODS,\n",
        "                                              STEP_DISTANCE,\n",
        "                                              LABEL)\n",
        "# convert to float\n",
        "x_test = x_test.astype('float32')\n",
        "y_test = y_test.astype('float32')\n",
        "\n",
        "\n",
        "\n",
        "# convert output labels using one-hot-encoding\n",
        "y_test_hot = np_utils.to_categorical(y_test, num_classes)\n"
      ],
      "execution_count": 0,
      "outputs": []
    },
    {
      "cell_type": "code",
      "metadata": {
        "id": "snDg3BHpTN0s",
        "colab_type": "code",
        "outputId": "37a1ab57-020b-4d75-f628-9dce182fa05e",
        "colab": {
          "base_uri": "https://localhost:8080/",
          "height": 34
        }
      },
      "source": [
        "y_test.shape"
      ],
      "execution_count": 0,
      "outputs": [
        {
          "output_type": "execute_result",
          "data": {
            "text/plain": [
              "(6584,)"
            ]
          },
          "metadata": {
            "tags": []
          },
          "execution_count": 59
        }
      ]
    },
    {
      "cell_type": "markdown",
      "metadata": {
        "id": "e2UPc2DrQVgD",
        "colab_type": "text"
      },
      "source": [
        "## Evaluate the model on the test set and report results with a confusion matrix ##"
      ]
    },
    {
      "cell_type": "code",
      "metadata": {
        "id": "iCAfeJ0FQHfg",
        "colab_type": "code",
        "outputId": "d6d7c700-b607-463e-ed3d-af9694db72e0",
        "colab": {
          "base_uri": "https://localhost:8080/",
          "height": 579
        }
      },
      "source": [
        "x_test = x_test.reshape(x_test.shape[0], input_shape)\n",
        "\n",
        "y_pred_test = model_m.predict(x_test)\n",
        "\n",
        "# Take the class with the highest probability from the test predictions\n",
        "max_y_pred_test = np.argmax(y_pred_test, axis=1)\n",
        "\n",
        "\n",
        "\n",
        "import seaborn as sns  # ! pip install seaborn\n",
        "import matplotlib.pyplot as plt\n",
        "from sklearn import metrics\n",
        "\n",
        "def show_confusion_matrix(validations, predictions, LABELS ):\n",
        "\n",
        "    matrix = metrics.confusion_matrix(validations, predictions)\n",
        "    plt.figure(figsize=(6, 4))\n",
        "    sns.heatmap(matrix,\n",
        "                cmap='coolwarm',\n",
        "                linecolor='white',\n",
        "                linewidths=1,\n",
        "                xticklabels=LABELS,\n",
        "                yticklabels=LABELS,\n",
        "                annot=True,\n",
        "                fmt='d')\n",
        "    plt.title('Confusion Matrix')\n",
        "    plt.ylabel('True Label')\n",
        "    plt.xlabel('Predicted Label')\n",
        "    plt.show()\n",
        "\n",
        "# y_test, max_y_pred_test are (nSamples,1), LABELS is a list of the classes, indexed from 0 up to num_classes-1\n",
        "show_confusion_matrix(y_test, max_y_pred_test, LABELS )\n",
        "\n",
        "print(classification_report(y_test, max_y_pred_test))"
      ],
      "execution_count": 0,
      "outputs": [
        {
          "output_type": "display_data",
          "data": {
            "image/png": "[encoded data removed]",
            "text/plain": [
              "<Figure size 432x288 with 2 Axes>"
            ]
          },
          "metadata": {
            "tags": []
          }
        },
        {
          "output_type": "stream",
          "text": [
            "              precision    recall  f1-score   support\n",
            "\n",
            "         0.0       0.56      0.28      0.37       650\n",
            "         1.0       0.80      0.94      0.87      1990\n",
            "         2.0       0.79      0.99      0.88       452\n",
            "         3.0       0.91      0.68      0.78       370\n",
            "         4.0       0.45      0.48      0.47       725\n",
            "         5.0       0.79      0.76      0.77      2397\n",
            "\n",
            "    accuracy                           0.75      6584\n",
            "   macro avg       0.72      0.69      0.69      6584\n",
            "weighted avg       0.74      0.75      0.74      6584\n",
            "\n"
          ],
          "name": "stdout"
        }
      ]
    },
    {
      "cell_type": "markdown",
      "metadata": {
        "id": "YGWuSusjU_Ua",
        "colab_type": "text"
      },
      "source": [
        "## Export to CoreML file ##"
      ]
    },
    {
      "cell_type": "code",
      "metadata": {
        "id": "0kAI3wXVUDv8",
        "colab_type": "code",
        "outputId": "2a11be3c-b837-4da2-cf1d-e2eddaa25f6a",
        "colab": {
          "base_uri": "https://localhost:8080/",
          "height": 955
        }
      },
      "source": [
        "coreml_model = coremltools.converters.keras.convert(model_m,\n",
        "                                                    input_names=['acceleration'],\n",
        "                                                    output_names=['output'],\n",
        "                                                    class_labels=LABELS)\n",
        "\n",
        "print(coreml_model)\n",
        "coreml_model.author = 'Nils Ackermann'\n",
        "coreml_model.license = 'N/A'\n",
        "coreml_model.short_description = 'Activity based recognition based on WISDM dataset'\n",
        "coreml_model.output_description['output'] = 'Probability of each activity'\n",
        "coreml_model.output_description['classLabel'] = 'Labels of activity'\n",
        "\n",
        "coreml_model.save('HARClassifier.mlmodel')"
      ],
      "execution_count": 0,
      "outputs": [
        {
          "output_type": "stream",
          "text": [
            "0 : reshape_1_input, <keras.engine.input_layer.InputLayer object at 0x7fec4b8304e0>\n",
            "1 : reshape_1, <keras.layers.core.Reshape object at 0x7fec4b830470>\n",
            "2 : dense_1, <keras.layers.core.Dense object at 0x7fec4b8446a0>\n",
            "3 : dense_1__activation__, <keras.layers.core.Activation object at 0x7fec432126a0>\n",
            "4 : dense_2, <keras.layers.core.Dense object at 0x7fec4b830978>\n",
            "5 : dense_2__activation__, <keras.layers.core.Activation object at 0x7fec4568b748>\n",
            "6 : dense_3, <keras.layers.core.Dense object at 0x7fec4b830a58>\n",
            "7 : dense_3__activation__, <keras.layers.core.Activation object at 0x7fec432127f0>\n",
            "8 : flatten_1, <keras.layers.core.Flatten object at 0x7fec4b7eaef0>\n",
            "9 : dense_4, <keras.layers.core.Dense object at 0x7fec4b7f08d0>\n",
            "10 : dense_4__activation__, <keras.layers.core.Activation object at 0x7fec43212fd0>\n",
            "\n",
            "\n",
            "Recommendation: This model has at least one multiarray input/output of type double.\n",
            "For large sized arrays, multiarrays of type float32 are more efficient.\n",
            "In future, float input/output multiarrays will be produced by default by the converter.\n",
            "Please use, either the flag 'use_float_arraytype' during the call to convert or\n",
            "the utility 'coremltools.utils.convert_double_to_float_multiarray_type(spec)', post-conversion.\n",
            "\n",
            "\n",
            "input {\n",
            "  name: \"acceleration\"\n",
            "  type {\n",
            "    multiArrayType {\n",
            "      shape: 240\n",
            "      dataType: DOUBLE\n",
            "    }\n",
            "  }\n",
            "}\n",
            "output {\n",
            "  name: \"output\"\n",
            "  type {\n",
            "    dictionaryType {\n",
            "      stringKeyType {\n",
            "      }\n",
            "    }\n",
            "  }\n",
            "}\n",
            "output {\n",
            "  name: \"classLabel\"\n",
            "  type {\n",
            "    stringType {\n",
            "    }\n",
            "  }\n",
            "}\n",
            "predictedFeatureName: \"classLabel\"\n",
            "predictedProbabilitiesName: \"output\"\n",
            "metadata {\n",
            "  userDefined {\n",
            "    key: \"coremltoolsVersion\"\n",
            "    value: \"3.3\"\n",
            "  }\n",
            "}\n",
            "\n"
          ],
          "name": "stdout"
        }
      ]
    }
  ]
}