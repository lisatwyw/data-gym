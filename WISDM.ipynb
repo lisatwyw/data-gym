{
  "nbformat": 4,
  "nbformat_minor": 0,
  "metadata": {
    "colab": {
      "name": "WISDM.ipynb",
      "provenance": [],
      "collapsed_sections": [],
      "toc_visible": true,
      "include_colab_link": true
    },
    "kernelspec": {
      "name": "python3",
      "display_name": "Python 3"
    }
  },
  "cells": [
    {
      "cell_type": "markdown",
      "metadata": {
        "id": "view-in-github",
        "colab_type": "text"
      },
      "source": [
        "<a href=\"https://colab.research.google.com/github/lisatwyw/data-gym/blob/master/WISDM.ipynb\" target=\"_parent\"><img src=\"https://colab.research.google.com/assets/colab-badge.svg\" alt=\"Open In Colab\"/></a>"
      ]
    },
    {
      "cell_type": "markdown",
      "metadata": {
        "id": "LhHGvYR3KNKG",
        "colab_type": "text"
      },
      "source": [
        "# Overview #\n",
        "\n",
        "- This is a notebook prepared for you to try out classification tasks using time-series data acquired using accelerometers of iPhone's.\n",
        "\n",
        "- You'll get to:\n",
        " - train a model based on neural networks \n",
        " - learn about ```CoreML```\n",
        " \n",
        "- Post-demo exercise: try to replicate below using the [Actitracker dataset](http://www.cis.fordham.edu/wisdm/includes/datasets/latest/WISDM_at_latest.tar.gz)"
      ]
    },
    {
      "cell_type": "markdown",
      "metadata": {
        "id": "FqM7vSoRHyg3",
        "colab_type": "text"
      },
      "source": [
        "# A) Mount Google drive #\n"
      ]
    },
    {
      "cell_type": "code",
      "metadata": {
        "id": "zKhYw_BxHyAa",
        "colab_type": "code",
        "outputId": "5b2aeff8-7c71-456d-9520-75174a06971c",
        "colab": {
          "base_uri": "https://localhost:8080/",
          "height": 124
        }
      },
      "source": [
        "from google.colab import drive\n",
        "drive.mount('/content/drive')\n",
        "\n",
        "from pydrive.auth import GoogleAuth\n",
        "from pydrive.drive import GoogleDrive\n",
        "from google.colab import auth\n",
        "from oauth2client.client import GoogleCredentials"
      ],
      "execution_count": 1,
      "outputs": [
        {
          "output_type": "stream",
          "text": [
            "Go to this URL in a browser: https://accounts.google.com/o/oauth2/auth?client_id=947318989803-6bn6qk8qdgf4n4g3pfee6491hc0brc4i.apps.googleusercontent.com&redirect_uri=urn%3aietf%3awg%3aoauth%3a2.0%3aoob&response_type=code&scope=email%20https%3a%2f%2fwww.googleapis.com%2fauth%2fdocs.test%20https%3a%2f%2fwww.googleapis.com%2fauth%2fdrive%20https%3a%2f%2fwww.googleapis.com%2fauth%2fdrive.photos.readonly%20https%3a%2f%2fwww.googleapis.com%2fauth%2fpeopleapi.readonly\n",
            "\n",
            "Enter your authorization code:\n",
            "··········\n",
            "Mounted at /content/drive\n"
          ],
          "name": "stdout"
        }
      ]
    },
    {
      "cell_type": "markdown",
      "metadata": {
        "id": "rKZJs-RrIhKO",
        "colab_type": "text"
      },
      "source": [
        "# B) Create subfolder ``wisdm`` in your ```opensource_datasets``` folder #"
      ]
    },
    {
      "cell_type": "code",
      "metadata": {
        "id": "MRx2Rs5oIfSe",
        "colab_type": "code",
        "outputId": "d57be3e4-5f1f-4a74-d3f9-e9525bfbd687",
        "colab": {
          "base_uri": "https://localhost:8080/",
          "height": 52
        }
      },
      "source": [
        "try:\n",
        "  ! mkdir '/content/drive/My Drive/Colab Notebooks/opensource_datasets/'\n",
        "except e as Exception:\n",
        "  pass  \n",
        "import os\n",
        "try:\n",
        "  ! mkdir '/content/drive/My Drive/Colab Notebooks/opensource_datasets/wisdm'\n",
        "except e as Exception:\n",
        "  pass  \n",
        "import os\n",
        "os.chdir('/content/drive/My Drive/Colab Notebooks/opensource_datasets/wisdm')"
      ],
      "execution_count": 2,
      "outputs": [
        {
          "output_type": "stream",
          "text": [
            "mkdir: cannot create directory ‘/content/drive/My Drive/Colab Notebooks/opensource_datasets/’: File exists\n",
            "mkdir: cannot create directory ‘/content/drive/My Drive/Colab Notebooks/opensource_datasets/wisdm’: File exists\n"
          ],
          "name": "stdout"
        }
      ]
    },
    {
      "cell_type": "markdown",
      "metadata": {
        "id": "DXs3peqUI8QM",
        "colab_type": "text"
      },
      "source": [
        "# C) Download from website and unzip contents ##"
      ]
    },
    {
      "cell_type": "code",
      "metadata": {
        "id": "b4hQnzCbIgvF",
        "colab_type": "code",
        "outputId": "bc7a38de-7ffa-48d2-f3bf-0fee7f9ab5ef",
        "colab": {
          "base_uri": "https://localhost:8080/",
          "height": 260
        }
      },
      "source": [
        "try:\n",
        "  ! wget -O wisdm.gz http://www.cis.fordham.edu/wisdm/includes/datasets/latest/WISDM_ar_latest.tar.gz\n",
        "  ! tar -xf wisdm.gz\n",
        "  print('done unzipping')\n",
        "except:\n",
        "  pass\n",
        "\n",
        "! ls"
      ],
      "execution_count": 3,
      "outputs": [
        {
          "output_type": "stream",
          "text": [
            "--2020-04-07 17:50:57--  http://www.cis.fordham.edu/wisdm/includes/datasets/latest/WISDM_ar_latest.tar.gz\n",
            "Resolving www.cis.fordham.edu (www.cis.fordham.edu)... 150.108.68.29\n",
            "Connecting to www.cis.fordham.edu (www.cis.fordham.edu)|150.108.68.29|:80... connected.\n",
            "HTTP request sent, awaiting response... 200 OK\n",
            "Length: 11404612 (11M) [application/x-gzip]\n",
            "Saving to: ‘wisdm.gz’\n",
            "\n",
            "wisdm.gz            100%[===================>]  10.88M  7.78MB/s    in 1.4s    \n",
            "\n",
            "2020-04-07 17:50:59 (7.78 MB/s) - ‘wisdm.gz’ saved [11404612/11404612]\n",
            "\n",
            "done unzipping\n",
            "best_model.01-0.75.h5  best_model.03-0.61.h5  HARClassifier.mlmodel  wisdm.gz\n",
            "best_model.02-0.64.h5  best_model.04-0.61.h5  WISDM_ar_v1.1\n"
          ],
          "name": "stdout"
        }
      ]
    },
    {
      "cell_type": "markdown",
      "metadata": {
        "id": "WuJS5m1SJvR1",
        "colab_type": "text"
      },
      "source": [
        "# D) Run the following demo code written by [Nils Ackermann](https://towardsdatascience.com/human-activity-recognition-har-tutorial-with-keras-and-core-ml-part-1-8c05e365dfa0?)# "
      ]
    },
    {
      "cell_type": "code",
      "metadata": {
        "id": "VlO0ei_RIxxY",
        "colab_type": "code",
        "colab": {}
      },
      "source": [
        "import numpy as np\n",
        "import pandas as pd\n",
        "\n",
        "# https://towardsdatascience.com/human-activity-recognition-har-tutorial-with-keras-and-core-ml-part-1-8c05e365dfa0?\n",
        "\n",
        "def read_data(file_path):\n",
        "\n",
        "    column_names = ['user-id',\n",
        "                    'activity',\n",
        "                    'timestamp',\n",
        "                    'x-axis',\n",
        "                    'y-axis',\n",
        "                    'z-axis']\n",
        "    df = pd.read_csv(file_path,\n",
        "                     header=None,\n",
        "                     names=column_names)\n",
        "    # Last column has a \";\" character which must be removed ...\n",
        "    df['z-axis'].replace(regex=True,\n",
        "      inplace=True,\n",
        "      to_replace=r';',\n",
        "      value=r'')\n",
        "    # ... and then this column must be transformed to float explicitly\n",
        "    df['z-axis'] = df['z-axis'].apply(convert_to_float)\n",
        "    # This is very important otherwise the model will not fit and loss\n",
        "    # will show up as NAN\n",
        "    df.dropna(axis=0, how='any', inplace=True)\n",
        "\n",
        "    return df\n",
        "\n",
        "def convert_to_float(x):\n",
        "\n",
        "    try:\n",
        "        return np.float(x)\n",
        "    except:\n",
        "        return np.nan\n",
        " \n",
        "def show_basic_dataframe_info(dataframe):\n",
        "\n",
        "    # Shape and how many rows and columns\n",
        "    print('Number of columns in the dataframe: %i' % (dataframe.shape[1]))\n",
        "    print('Number of rows in the dataframe: %i\\n' % (dataframe.shape[0]))\n",
        "\n",
        "# Load data set containing all the data from csv\n",
        "df = read_data('WISDM_ar_v1.1/WISDM_ar_v1.1_raw.txt')\n"
      ],
      "execution_count": 0,
      "outputs": []
    },
    {
      "cell_type": "markdown",
      "metadata": {
        "id": "kUEPILAbKbeS",
        "colab_type": "text"
      },
      "source": [
        "## Examine the data ##"
      ]
    },
    {
      "cell_type": "code",
      "metadata": {
        "id": "sxIPjT6cKWtS",
        "colab_type": "code",
        "outputId": "40c7ddcb-2452-4161-c5c4-6d12b8834885",
        "colab": {
          "base_uri": "https://localhost:8080/",
          "height": 206
        }
      },
      "source": [
        "df.head(5)"
      ],
      "execution_count": 15,
      "outputs": [
        {
          "output_type": "execute_result",
          "data": {
            "text/html": [
              "<div>\n",
              "<style scoped>\n",
              "    .dataframe tbody tr th:only-of-type {\n",
              "        vertical-align: middle;\n",
              "    }\n",
              "\n",
              "    .dataframe tbody tr th {\n",
              "        vertical-align: top;\n",
              "    }\n",
              "\n",
              "    .dataframe thead th {\n",
              "        text-align: right;\n",
              "    }\n",
              "</style>\n",
              "<table border=\"1\" class=\"dataframe\">\n",
              "  <thead>\n",
              "    <tr style=\"text-align: right;\">\n",
              "      <th></th>\n",
              "      <th>user-id</th>\n",
              "      <th>activity</th>\n",
              "      <th>timestamp</th>\n",
              "      <th>x-axis</th>\n",
              "      <th>y-axis</th>\n",
              "      <th>z-axis</th>\n",
              "    </tr>\n",
              "  </thead>\n",
              "  <tbody>\n",
              "    <tr>\n",
              "      <th>0</th>\n",
              "      <td>33</td>\n",
              "      <td>Jogging</td>\n",
              "      <td>49105962326000</td>\n",
              "      <td>-0.7</td>\n",
              "      <td>12.7</td>\n",
              "      <td>0.5</td>\n",
              "    </tr>\n",
              "    <tr>\n",
              "      <th>1</th>\n",
              "      <td>33</td>\n",
              "      <td>Jogging</td>\n",
              "      <td>49106062271000</td>\n",
              "      <td>5.0</td>\n",
              "      <td>11.3</td>\n",
              "      <td>1.0</td>\n",
              "    </tr>\n",
              "    <tr>\n",
              "      <th>2</th>\n",
              "      <td>33</td>\n",
              "      <td>Jogging</td>\n",
              "      <td>49106112167000</td>\n",
              "      <td>4.9</td>\n",
              "      <td>10.9</td>\n",
              "      <td>-0.1</td>\n",
              "    </tr>\n",
              "    <tr>\n",
              "      <th>3</th>\n",
              "      <td>33</td>\n",
              "      <td>Jogging</td>\n",
              "      <td>49106222305000</td>\n",
              "      <td>-0.6</td>\n",
              "      <td>18.5</td>\n",
              "      <td>3.0</td>\n",
              "    </tr>\n",
              "    <tr>\n",
              "      <th>4</th>\n",
              "      <td>33</td>\n",
              "      <td>Jogging</td>\n",
              "      <td>49106332290000</td>\n",
              "      <td>-1.2</td>\n",
              "      <td>12.1</td>\n",
              "      <td>7.2</td>\n",
              "    </tr>\n",
              "  </tbody>\n",
              "</table>\n",
              "</div>"
            ],
            "text/plain": [
              "   user-id activity       timestamp  x-axis  y-axis  z-axis\n",
              "0       33  Jogging  49105962326000    -0.7    12.7     0.5\n",
              "1       33  Jogging  49106062271000     5.0    11.3     1.0\n",
              "2       33  Jogging  49106112167000     4.9    10.9    -0.1\n",
              "3       33  Jogging  49106222305000    -0.6    18.5     3.0\n",
              "4       33  Jogging  49106332290000    -1.2    12.1     7.2"
            ]
          },
          "metadata": {
            "tags": []
          },
          "execution_count": 15
        }
      ]
    },
    {
      "cell_type": "markdown",
      "metadata": {
        "id": "4DP3_8obMpUS",
        "colab_type": "text"
      },
      "source": [
        "## Prepare the output labels ##"
      ]
    },
    {
      "cell_type": "code",
      "metadata": {
        "id": "3tzzfcBqKag9",
        "colab_type": "code",
        "colab": {
          "base_uri": "https://localhost:8080/",
          "height": 34
        },
        "outputId": "2b8cf987-d3ac-4f01-c95a-fa3815f021a9"
      },
      "source": [
        "import seaborn as sns\n",
        "import matplotlib.pyplot as plt\n",
        "from sklearn import preprocessing\n",
        "\n",
        "\n",
        "# Set some standard parameters upfront\n",
        "pd.options.display.float_format = '{:.1f}'.format\n",
        "sns.set() # Default seaborn look and feel\n",
        "\n",
        "\n",
        "plt.style.use('ggplot')\n",
        "\n",
        "# Same labels will be reused throughout the program\n",
        "LABELS = ['Downstairs',\n",
        "          'Jogging',\n",
        "          'Sitting',\n",
        "          'Standing',\n",
        "          'Upstairs',\n",
        "          'Walking']\n",
        "\n",
        "\n",
        "# The number of steps within one time segment\n",
        "TIME_PERIODS = 80\n",
        "\n",
        "# The steps to take from one segment to the next; if this value is equal to TIME_PERIODS, then there is no overlap between the segments\n",
        "STEP_DISTANCE = 40\n",
        "\n",
        "\n",
        "# Define column name of the label vector\n",
        "LABEL = 'ActivityEncoded'\n",
        "# Transform the labels from String to Integer via LabelEncoder\n",
        "\n",
        "le = preprocessing.LabelEncoder()\n",
        "# Add a new column to the existing DataFrame with the encoded values\n",
        "df[LABEL] = le.fit_transform(df['activity'].values.ravel())\n",
        "\n",
        "num_classes = le.classes_.size\n",
        "print(list(le.classes_))"
      ],
      "execution_count": 16,
      "outputs": [
        {
          "output_type": "stream",
          "text": [
            "['Downstairs', 'Jogging', 'Sitting', 'Standing', 'Upstairs', 'Walking']\n"
          ],
          "name": "stdout"
        }
      ]
    },
    {
      "cell_type": "markdown",
      "metadata": {
        "id": "_VutlDPgMsbt",
        "colab_type": "text"
      },
      "source": [
        "## Split the dataset into training and test subsets ##"
      ]
    },
    {
      "cell_type": "code",
      "metadata": {
        "id": "Sp0jLBCWLKie",
        "colab_type": "code",
        "colab": {}
      },
      "source": [
        "pd.options.mode.chained_assignment = None  # default='warn'\n",
        "\n",
        "df_test = df[df['user-id'] > 28]\n",
        "df_train = df[df['user-id'] <= 28]\n"
      ],
      "execution_count": 0,
      "outputs": []
    },
    {
      "cell_type": "markdown",
      "metadata": {
        "id": "QOJamwIzM2Ut",
        "colab_type": "text"
      },
      "source": [
        "## Normalize the input data ##"
      ]
    },
    {
      "cell_type": "code",
      "metadata": {
        "id": "Ybe6nM2BM5Ke",
        "colab_type": "code",
        "colab": {}
      },
      "source": [
        "df_train['x-axis'] = df_train['x-axis'] / df_train['x-axis'].max()\n",
        "df_train['y-axis'] = df_train['y-axis'] / df_train['y-axis'].max()\n",
        "df_train['z-axis'] = df_train['z-axis'] / df_train['z-axis'].max()\n",
        "\n",
        "# Round numbers\n",
        "df_train = df_train.round({'x-axis': 4, 'y-axis': 4, 'z-axis': 4})"
      ],
      "execution_count": 0,
      "outputs": []
    },
    {
      "cell_type": "code",
      "metadata": {
        "id": "TzaCXWHHLqMY",
        "colab_type": "code",
        "outputId": "b9df7c7d-eaca-4005-8e1e-cec3264ed033",
        "colab": {
          "base_uri": "https://localhost:8080/",
          "height": 34
        }
      },
      "source": [
        "import keras\n",
        "print('keras version ', keras.__version__)\n"
      ],
      "execution_count": 19,
      "outputs": [
        {
          "output_type": "stream",
          "text": [
            "keras version  2.2.5\n"
          ],
          "name": "stdout"
        }
      ]
    },
    {
      "cell_type": "code",
      "metadata": {
        "id": "YOlezCu2MVHB",
        "colab_type": "code",
        "outputId": "2448cf1c-fc23-44fb-a980-dba436214c12",
        "colab": {
          "base_uri": "https://localhost:8080/",
          "height": 124
        }
      },
      "source": [
        ""
      ],
      "execution_count": 20,
      "outputs": [
        {
          "output_type": "stream",
          "text": [
            "Requirement already satisfied: coremltools in /usr/local/lib/python3.6/dist-packages (3.3)\n",
            "Requirement already satisfied: six>=1.10.0 in /usr/local/lib/python3.6/dist-packages (from coremltools) (1.12.0)\n",
            "Requirement already satisfied: numpy>=1.14.5 in /usr/local/lib/python3.6/dist-packages (from coremltools) (1.18.2)\n",
            "Requirement already satisfied: protobuf>=3.1.0 in /usr/local/lib/python3.6/dist-packages (from coremltools) (3.10.0)\n",
            "Requirement already satisfied: setuptools in /usr/local/lib/python3.6/dist-packages (from protobuf>=3.1.0->coremltools) (46.1.3)\n"
          ],
          "name": "stdout"
        }
      ]
    },
    {
      "cell_type": "markdown",
      "metadata": {
        "id": "gDccK9tBNF0m",
        "colab_type": "text"
      },
      "source": [
        "## Prepare the training dataset ##"
      ]
    },
    {
      "cell_type": "code",
      "metadata": {
        "id": "aMfE8IclMmdD",
        "colab_type": "code",
        "colab": {}
      },
      "source": [
        "from scipy import stats\n",
        "from keras.utils import np_utils\n",
        "\n",
        "\n",
        "def create_segments_and_labels(df, time_steps, step, label_name):\n",
        "\n",
        "    # x, y, z acceleration as features\n",
        "    N_FEATURES = 3\n",
        "    # Number of steps to advance in each iteration (for me, it should always\n",
        "    # be equal to the time_steps in order to have no overlap between segments)\n",
        "    # step = time_steps\n",
        "    segments = []\n",
        "    labels = []\n",
        "    for i in range(0, len(df) - time_steps, step):\n",
        "        xs = df['x-axis'].values[i: i + time_steps]\n",
        "        ys = df['y-axis'].values[i: i + time_steps]\n",
        "        zs = df['z-axis'].values[i: i + time_steps]\n",
        "        # Retrieve the most often used label in this segment\n",
        "        label = stats.mode(df[label_name][i: i + time_steps])[0][0]\n",
        "        segments.append([xs, ys, zs])\n",
        "        labels.append(label)\n",
        "\n",
        "    # Bring the segments into a better shape\n",
        "    reshaped_segments = np.asarray(segments, dtype= np.float32).reshape(-1, time_steps, N_FEATURES)\n",
        "    labels = np.asarray(labels)\n",
        "\n",
        "    return reshaped_segments, labels\n",
        "\n",
        "x_train, y_train = create_segments_and_labels(df_train,\n",
        "                                              TIME_PERIODS,\n",
        "                                              STEP_DISTANCE,\n",
        "                                              LABEL)\n",
        "\n",
        "# convert to float\n",
        "x_train = x_train.astype('float32')\n",
        "y_train = y_train.astype('float32')\n",
        "\n",
        "# convert output labels using one-hot-encoding\n",
        "y_train_hot = np_utils.to_categorical(y_train, num_classes)\n"
      ],
      "execution_count": 0,
      "outputs": []
    },
    {
      "cell_type": "code",
      "metadata": {
        "id": "jmIFj7ShNO65",
        "colab_type": "code",
        "outputId": "e2cb0577-85af-4d3f-9942-7f44be8bd6ef",
        "colab": {
          "base_uri": "https://localhost:8080/",
          "height": 86
        }
      },
      "source": [
        "num_time_periods, num_sensors = x_train.shape[1], x_train.shape[2]\n",
        "print( 'Input data:', x_train.shape, '\\n3 time-series and 80 timepoints; total of', y_train.shape, 'samples' )\n",
        "\n",
        "input_shape = (num_time_periods*num_sensors)\n",
        "\n",
        "\n",
        "x_train = x_train.reshape(x_train.shape[0], input_shape)\n",
        "\n",
        "print('After reshaping, x_train has shape', x_train.shape)\n",
        "print('input_shape:', input_shape)"
      ],
      "execution_count": 22,
      "outputs": [
        {
          "output_type": "stream",
          "text": [
            "Input data: (20868, 80, 3) \n",
            "3 time-series and 80 timepoints; total of (20868,) samples\n",
            "After reshaping, x_train has shape (20868, 240)\n",
            "input_shape: 240\n"
          ],
          "name": "stdout"
        }
      ]
    },
    {
      "cell_type": "markdown",
      "metadata": {
        "id": "IRHcLJHAOqwJ",
        "colab_type": "text"
      },
      "source": [
        "## Construct the model ##"
      ]
    },
    {
      "cell_type": "code",
      "metadata": {
        "id": "GL4ztYe-N1ph",
        "colab_type": "code",
        "outputId": "02a6e30c-0db2-4c44-f323-3ec50d939019",
        "colab": {
          "base_uri": "https://localhost:8080/",
          "height": 382
        }
      },
      "source": [
        "import tensorflow as tf\n",
        "\n",
        "model_m = tf.keras.models.Sequential()\n",
        "# Remark: since coreml cannot accept vector shapes of complex shape like\n",
        "# [80,3] this workaround is used in order to reshape the vector internally\n",
        "# prior feeding it into the network\n",
        "model_m.add(tf.keras.layers.Reshape((TIME_PERIODS, 3), input_shape=(input_shape,)))\n",
        "model_m.add(tf.keras.layers.Dense(100, activation='relu'))\n",
        "model_m.add(tf.keras.layers.Dense(100, activation='relu'))\n",
        "\n",
        "model_m.add(tf.keras.layers.Dense(100, activation='relu'))\n",
        "model_m.add(tf.keras.layers.Flatten())\n",
        "model_m.add(tf.keras.layers.Dense(num_classes, activation='softmax'))\n",
        "print(model_m.summary())\n"
      ],
      "execution_count": 24,
      "outputs": [
        {
          "output_type": "stream",
          "text": [
            "Model: \"sequential\"\n",
            "_________________________________________________________________\n",
            "Layer (type)                 Output Shape              Param #   \n",
            "=================================================================\n",
            "reshape (Reshape)            (None, 80, 3)             0         \n",
            "_________________________________________________________________\n",
            "dense (Dense)                (None, 80, 100)           400       \n",
            "_________________________________________________________________\n",
            "dense_1 (Dense)              (None, 80, 100)           10100     \n",
            "_________________________________________________________________\n",
            "dense_2 (Dense)              (None, 80, 100)           10100     \n",
            "_________________________________________________________________\n",
            "flatten (Flatten)            (None, 8000)              0         \n",
            "_________________________________________________________________\n",
            "dense_3 (Dense)              (None, 6)                 48006     \n",
            "=================================================================\n",
            "Total params: 68,606\n",
            "Trainable params: 68,606\n",
            "Non-trainable params: 0\n",
            "_________________________________________________________________\n",
            "None\n"
          ],
          "name": "stdout"
        }
      ]
    },
    {
      "cell_type": "markdown",
      "metadata": {
        "id": "xRQpFOMXOtL1",
        "colab_type": "text"
      },
      "source": [
        "## Train it! ##"
      ]
    },
    {
      "cell_type": "code",
      "metadata": {
        "id": "qFt6hd052JkS",
        "colab_type": "code",
        "colab": {}
      },
      "source": [
        "callbacks_list = [\n",
        "    tf.keras.callbacks.ModelCheckpoint(\n",
        "        filepath='best_model.{epoch:02d}-{val_loss:.2f}.h5',\n",
        "        monitor='val_loss', save_best_only=True),\n",
        "    tf.keras.callbacks.EarlyStopping(monitor='accuracy', patience=1)\n",
        "]\n",
        "\n",
        "model_m.compile(loss='categorical_crossentropy',\n",
        "                optimizer='adam', metrics=['accuracy'])\n",
        "\n",
        "# Hyper-parameters\n",
        "BATCH_SIZE = 400\n",
        "EPOCHS = 50\n",
        "\n",
        "# Enable validation to use ModelCheckpoint and EarlyStopping callbacks.\n",
        "history = model_m.fit(x_train,\n",
        "                      y_train_hot,\n",
        "                      batch_size=BATCH_SIZE,\n",
        "                      epochs=EPOCHS,\n",
        "                      callbacks=callbacks_list,\n",
        "                      validation_split=0.2,\n",
        "                      verbose=1)"
      ],
      "execution_count": 0,
      "outputs": []
    },
    {
      "cell_type": "markdown",
      "metadata": {
        "id": "jJLDHSSuQIes",
        "colab_type": "text"
      },
      "source": [
        "## Examine the training progress and evaluate the trained model ##"
      ]
    },
    {
      "cell_type": "code",
      "metadata": {
        "id": "b8XUbhKvQHdB",
        "colab_type": "code",
        "outputId": "0bdf667c-e9f1-4421-9498-132267abce09",
        "colab": {
          "base_uri": "https://localhost:8080/",
          "height": 528
        }
      },
      "source": [
        "plt.figure(figsize=(6, 4))\n",
        "plt.plot(history.history['accuracy'], 'r', label='Accuracy of training data')\n",
        "plt.plot(history.history['val_accuracy'], 'b', label='Accuracy of validation data')\n",
        "plt.plot(history.history['loss'], 'r--', label='Loss of training data')\n",
        "plt.plot(history.history['val_loss'], 'b--', label='Loss of validation data')\n",
        "plt.title('Model Accuracy and Loss')\n",
        "plt.ylabel('Accuracy and Loss')\n",
        "plt.xlabel('Training Epoch')\n",
        "plt.ylim(0)\n",
        "plt.legend()\n",
        "plt.show()\n",
        "\n",
        "# Print confusion matrix for training data\n",
        "y_pred_train = model_m.predict(x_train)\n",
        "# Take the class with the highest probability from the train predictions\n",
        "max_y_pred_train = np.argmax(y_pred_train, axis=1)\n",
        "\n",
        "\n",
        "from sklearn.metrics import classification_report\n",
        "print(classification_report(y_train, max_y_pred_train))\n"
      ],
      "execution_count": 26,
      "outputs": [
        {
          "output_type": "display_data",
          "data": {
            "image/png": "[encoded data removed]",
            "text/plain": [
              "<Figure size 432x288 with 1 Axes>"
            ]
          },
          "metadata": {
            "tags": []
          }
        },
        {
          "output_type": "stream",
          "text": [
            "              precision    recall  f1-score   support\n",
            "\n",
            "         0.0       0.63      0.82      0.71      1864\n",
            "         1.0       0.98      0.98      0.98      6567\n",
            "         2.0       1.00      1.00      1.00      1050\n",
            "         3.0       1.00      1.00      1.00       833\n",
            "         4.0       0.72      0.79      0.76      2342\n",
            "         5.0       0.96      0.87      0.91      8212\n",
            "\n",
            "    accuracy                           0.90     20868\n",
            "   macro avg       0.88      0.91      0.89     20868\n",
            "weighted avg       0.91      0.90      0.91     20868\n",
            "\n"
          ],
          "name": "stdout"
        }
      ]
    },
    {
      "cell_type": "markdown",
      "metadata": {
        "id": "uPkUZnlSRlEp",
        "colab_type": "text"
      },
      "source": [
        "## Prepare the test subset ##"
      ]
    },
    {
      "cell_type": "code",
      "metadata": {
        "id": "5LNztCcFRbK2",
        "colab_type": "code",
        "colab": {}
      },
      "source": [
        "df_test['x-axis'] = df_test['x-axis'] / df_test['x-axis'].max()\n",
        "df_test['y-axis'] = df_test['y-axis'] / df_test['y-axis'].max()\n",
        "df_test['z-axis'] = df_test['z-axis'] / df_test['z-axis'].max()\n",
        "\n",
        "# Round numbers\n",
        "df_test = df_test.round({'x-axis': 4, 'y-axis': 4, 'z-axis': 4})\n",
        "\n",
        "x_test, y_test = create_segments_and_labels( df_test,\n",
        "                                              TIME_PERIODS,\n",
        "                                              STEP_DISTANCE,\n",
        "                                              LABEL)\n",
        "# convert to float\n",
        "x_test = x_test.astype('float32')\n",
        "y_test = y_test.astype('float32')\n",
        "\n",
        "\n",
        "\n",
        "# convert output labels using one-hot-encoding\n",
        "y_test_hot = np_utils.to_categorical(y_test, num_classes)\n"
      ],
      "execution_count": 0,
      "outputs": []
    },
    {
      "cell_type": "code",
      "metadata": {
        "id": "snDg3BHpTN0s",
        "colab_type": "code",
        "colab": {}
      },
      "source": [
        "y_test.shape"
      ],
      "execution_count": 0,
      "outputs": []
    },
    {
      "cell_type": "markdown",
      "metadata": {
        "id": "e2UPc2DrQVgD",
        "colab_type": "text"
      },
      "source": [
        "## Evaluate the model on the test set and report results with a confusion matrix ##"
      ]
    },
    {
      "cell_type": "code",
      "metadata": {
        "id": "iCAfeJ0FQHfg",
        "colab_type": "code",
        "outputId": "d7ba4247-bee2-4463-defa-1b31ba9062e1",
        "colab": {
          "base_uri": "https://localhost:8080/",
          "height": 579
        }
      },
      "source": [
        "x_test = x_test.reshape(x_test.shape[0], input_shape)\n",
        "\n",
        "y_pred_test = model_m.predict(x_test)\n",
        "\n",
        "# Take the class with the highest probability from the test predictions\n",
        "max_y_pred_test = np.argmax(y_pred_test, axis=1)\n",
        "\n",
        "\n",
        "\n",
        "import seaborn as sns  # ! pip install seaborn\n",
        "import matplotlib.pyplot as plt\n",
        "from sklearn import metrics\n",
        "\n",
        "def show_confusion_matrix(validations, predictions, LABELS ):\n",
        "\n",
        "    matrix = metrics.confusion_matrix(validations, predictions)\n",
        "    plt.figure(figsize=(6, 4))\n",
        "    sns.heatmap(matrix,\n",
        "                cmap='coolwarm',\n",
        "                linecolor='white',\n",
        "                linewidths=1,\n",
        "                xticklabels=LABELS,\n",
        "                yticklabels=LABELS,\n",
        "                annot=True,\n",
        "                fmt='d')\n",
        "    plt.title('Confusion Matrix')\n",
        "    plt.ylabel('True Label')\n",
        "    plt.xlabel('Predicted Label')\n",
        "    plt.show()\n",
        "\n",
        "# y_test, max_y_pred_test are (nSamples,1), LABELS is a list of the classes, indexed from 0 up to num_classes-1\n",
        "show_confusion_matrix(y_test, max_y_pred_test, LABELS )\n",
        "\n",
        "print(classification_report(y_test, max_y_pred_test))"
      ],
      "execution_count": 28,
      "outputs": [
        {
          "output_type": "display_data",
          "data": {
            "image/png": "[encoded data removed]",
            "text/plain": [
              "<Figure size 432x288 with 2 Axes>"
            ]
          },
          "metadata": {
            "tags": []
          }
        },
        {
          "output_type": "stream",
          "text": [
            "              precision    recall  f1-score   support\n",
            "\n",
            "         0.0       0.48      0.52      0.50       650\n",
            "         1.0       0.77      0.94      0.84      1990\n",
            "         2.0       0.88      1.00      0.93       452\n",
            "         3.0       0.96      0.87      0.91       370\n",
            "         4.0       0.50      0.48      0.49       725\n",
            "         5.0       0.86      0.68      0.76      2397\n",
            "\n",
            "    accuracy                           0.75      6584\n",
            "   macro avg       0.74      0.75      0.74      6584\n",
            "weighted avg       0.76      0.75      0.75      6584\n",
            "\n"
          ],
          "name": "stdout"
        }
      ]
    },
    {
      "cell_type": "markdown",
      "metadata": {
        "id": "EtnNx9KKM8Mm",
        "colab_type": "text"
      },
      "source": [
        "## Install library ```coreML``` if not already available ##\n",
        "\n",
        "...updating to module 3.1 per suggestions on [CoreML support](https://github.com/apple/coremltools/issues/446)"
      ]
    },
    {
      "cell_type": "code",
      "metadata": {
        "id": "crf8v96O07IS",
        "colab_type": "code",
        "colab": {
          "base_uri": "https://localhost:8080/",
          "height": 332
        },
        "outputId": "c527bc64-0cdc-415d-a758-211190e51c69"
      },
      "source": [
        "! pip install coremltools==3.1\n",
        "\n",
        "import coremltools"
      ],
      "execution_count": 33,
      "outputs": [
        {
          "output_type": "stream",
          "text": [
            "Collecting coremltools==3.1\n",
            "\u001b[?25l  Downloading https://files.pythonhosted.org/packages/af/f8/ac6940600864b08476fee09583b7c66e2fcfe70ccafeb696710103c4a31b/coremltools-3.1-cp36-none-manylinux1_x86_64.whl (3.4MB)\n",
            "\u001b[K     |████████████████████████████████| 3.4MB 3.4MB/s \n",
            "\u001b[?25hRequirement already satisfied: six>=1.10.0 in /usr/local/lib/python3.6/dist-packages (from coremltools==3.1) (1.12.0)\n",
            "Requirement already satisfied: numpy>=1.14.5 in /usr/local/lib/python3.6/dist-packages (from coremltools==3.1) (1.18.2)\n",
            "Requirement already satisfied: protobuf>=3.1.0 in /usr/local/lib/python3.6/dist-packages (from coremltools==3.1) (3.10.0)\n",
            "Requirement already satisfied: setuptools in /usr/local/lib/python3.6/dist-packages (from protobuf>=3.1.0->coremltools==3.1) (46.1.3)\n",
            "Installing collected packages: coremltools\n",
            "  Found existing installation: coremltools 3.3\n",
            "    Uninstalling coremltools-3.3:\n",
            "      Successfully uninstalled coremltools-3.3\n",
            "Successfully installed coremltools-3.1\n"
          ],
          "name": "stdout"
        },
        {
          "output_type": "display_data",
          "data": {
            "application/vnd.colab-display-data+json": {
              "pip_warning": {
                "packages": [
                  "coremltools"
                ]
              }
            }
          },
          "metadata": {
            "tags": []
          }
        }
      ]
    },
    {
      "cell_type": "markdown",
      "metadata": {
        "id": "YGWuSusjU_Ua",
        "colab_type": "text"
      },
      "source": [
        "## Export to CoreML file ##"
      ]
    },
    {
      "cell_type": "code",
      "metadata": {
        "id": "uaFpe0qI1Pje",
        "colab_type": "code",
        "colab": {}
      },
      "source": [
        "coreml_model = coremltools.converters.keras.convert(model_m,\n",
        "                                                    input_names=['acceleration'],\n",
        "                                                    output_names=['output'],\n",
        "                                                    class_labels=LABELS)\n",
        "print(coreml_model)\n",
        "coreml_model.author = 'Nils Ackermann'\n",
        "coreml_model.license = 'N/A'\n",
        "coreml_model.short_description = 'Activity based recognition based on WISDM dataset'\n",
        "coreml_model.output_description['output'] = 'Probability of each activity'\n",
        "coreml_model.output_description['classLabel'] = 'Labels of activity'\n",
        "\n",
        "coreml_model.save('HARClassifier.mlmodel')"
      ],
      "execution_count": 0,
      "outputs": []
    }
  ]
}